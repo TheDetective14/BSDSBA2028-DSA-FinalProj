{
 "cells": [
  {
   "cell_type": "code",
   "execution_count": 130,
   "metadata": {},
   "outputs": [],
   "source": [
    "from collections import Counter\n",
    "import random\n",
    "import numpy as np\n",
    "\n",
    "import numpy as np\n",
    "import matplotlib.pyplot as plt\n",
    "import seaborn as sns\n",
    "import pandas as pd\n",
    "\n",
    "from collections import defaultdict\n",
    "from collections import Counter\n",
    "import random"
   ]
  },
  {
   "cell_type": "markdown",
   "metadata": {},
   "source": [
    "## Bioinformatics: Sequence Alignment\n",
    "Sequence alignment in bioinformatics is the process of comparing DNA, RNA, or protein sequences to find similarities. It helps scientists understand relationships, functions, or evolutionary history. By lining up sequences, we can spot matches, differences, and important regions.\n",
    "\n",
    "Understanding genetic information is at the heart of modern biology, and sequence alignment is one of the most fundamental tools in this process. Sequence alignment refers to the task of arranging DNA, RNA, or protein sequences to identify regions of similarity. These similarities can indicate shared ancestry, functional relationships, or evolutionary patterns.\n",
    "\n",
    "Unlike simple data comparison, sequence alignment must account for mutations, insertions, deletions, and gaps that naturally occur over time. This makes the task computationally complex and biologically significant. Performing accurate alignments requires a combination of algorithmic strategies and domain-specific knowledge in molecular biology.\n",
    "\n",
    "This notebook explores how algorithms like Needleman-Wunsch, Smith-Waterman, and multiple sequence alignment (MSA) methods are used to detect conserved regions, infer phylogenetic relationships, and support gene annotation. These algorithms form the backbone of many tools used in genomic research and medical diagnostics.\n",
    "\n",
    "By studying sequence alignment, we not only improve our ability to interpret genetic data, but we also gain insight into how algorithms can be designed to model the uncertainty and variation found in living systems.\n",
    "\n",
    "### Problem Overview\n",
    "Sequence alignment is the task of comparing two or more biological sequences and determining the optimal way to align them for maximum similarity. In practical terms, this involves identifying the best match between nucleotides or amino acids, while accounting for insertions, deletions, and substitutions.\n",
    "\n",
    "This problem becomes more challenging when aligning long sequences or multiple sequences at once, as the number of possible alignments grows exponentially. Real biological data often includes noise, mutations, or incomplete regions, making exact matching impossible and intelligent heuristics essential.\n",
    "\n",
    "### Objectives and Scope\n",
    "The primary objective of this paper is to explore the theoretical and algorithmic foundations of sequence alignment in bioinformatics. It aims to:\n",
    "\n",
    "1.   Explain the difference between global and local alignment techniques.\n",
    "2.   Describe the workings of key algorithms such as Needleman-Wunsch, Smith-Waterman, and BLAST.\n",
    "3.   Demonstrate how alignment is used in real-world applications such as genome comparison, mutation detection, and evolutionary biology.\n",
    "\n",
    "The scope of this paper is limited to alignment techniques for nucleotide and protein sequences, and focuses on deterministic and heuristic methods. It does not cover structural alignment or non-sequence-based omics data.\n",
    "\n",
    "\n",
    "# Similarity Searches in bioinformatics\n",
    "- DNA sequence comparison: when biologists infer a newly sequenced gene’s function by finding similarities with genes of known function. \n",
    "- DNA mutation is caused by DNA replication errors leading to substitutions, insertions, and deletions of nucleotides. \n",
    "\n",
    "- In 1984, scientists found v-sis oncogene, a cancer-causing gene. They compared it with all known genes from that time, and it matched with a normal growth and development gene. They hypothesized that cancer was caused by the normal growth gene doing its job at the wrong time. \n",
    "- Similarly, the Cystic fibrosis gene was discovered through a successful similarity search as well. Cystic fibrosis is a fatal disease which damages body organs and causes thick, lung clogging mucus. "
   ]
  },
  {
   "cell_type": "markdown",
   "metadata": {},
   "source": [
    "# Bioinformatics II: Sequence Alignment \n",
    "\n",
    "References:\n",
    "Jones and Pevzner 2004, An Introduction to Bioinformatics Algorithms"
   ]
  },
  {
   "cell_type": "markdown",
   "metadata": {},
   "source": [
    "## 1A. Hamming Distance"
   ]
  },
  {
   "cell_type": "markdown",
   "metadata": {},
   "source": [
    "The **Hamming Distance** is the number of positions at which the corresponding symbols are different in two strings of **equal length**.  \n",
    "It is used in coding theory, genetics, and information theory.\n",
    "\n",
    "The symbols may be **letters**, **bits**, or **decimal digits**, among other possibilities.\n",
    "\n",
    "### Examples:\n",
    "- `\"Hamming\"` vs `\"Hammers\"` → **3**\n",
    "- `\"Data\"` vs `\"data\"` → **1**\n",
    "- `\"structures\"` vs `\"Structured\"` → **2**\n",
    "- `0000` vs `8888` → **4**\n",
    "- `123456` vs `120459` → **2**"
   ]
  },
  {
   "cell_type": "code",
   "execution_count": 91,
   "metadata": {},
   "outputs": [
    {
     "name": "stdout",
     "output_type": "stream",
     "text": [
      "Hamming distance: 2\n"
     ]
    }
   ],
   "source": [
    "a = ['A', 'T', 'T', 'G', 'T', 'C']\n",
    "b = ['A', 'C', 'T', 'C', 'T', 'C']\n",
    "\n",
    "distance = 0\n",
    "\n",
    "for i in range (len(a)):\n",
    "  if a[i] != b[i]:\n",
    "    distance += 1\n",
    "\n",
    "print(f'Hamming distance: {distance}')"
   ]
  },
  {
   "cell_type": "code",
   "execution_count": 92,
   "metadata": {},
   "outputs": [
    {
     "name": "stdout",
     "output_type": "stream",
     "text": [
      "T T A T G A\n",
      "A C A C A A\n",
      "C G C G A G\n",
      "G A C C T T\n",
      "C A C C A A\n",
      "G G C T A T\n",
      "T G G G T A\n",
      "A T C C G C\n",
      "A G C T T T\n"
     ]
    }
   ],
   "source": [
    "# Counts how many nucleobases (A,T,C,G) are different from the REFERENCE SEQUENCE in the first row \n",
    "\n",
    "#generate dna sequences of the same length\n",
    "def generate_dna_sequences_samelength():\n",
    "    bases = ['A', 'T', 'C', 'G']\n",
    "    matrix_rows = random.randint(5, 10) #number of dna sequences\n",
    "\n",
    "    sequences = []\n",
    "    length = random.randint(5,8)\n",
    "    for row in range(matrix_rows):\n",
    "        sequence = [random.choice(bases) for column in range(length)]\n",
    "        sequences.append(sequence)\n",
    "\n",
    "    return sequences\n",
    "\n",
    "X = generate_dna_sequences_samelength()\n",
    "\n",
    "for row in X:\n",
    "    print(\" \".join(row))"
   ]
  },
  {
   "cell_type": "code",
   "execution_count": 93,
   "metadata": {},
   "outputs": [
    {
     "data": {
      "text/plain": [
       "39"
      ]
     },
     "execution_count": 133,
     "metadata": {},
     "output_type": "execute_result"
    }
   ],
   "source": [
    "def Hamming_distance(matrix, reference_index=0):\n",
    "    reference = matrix[reference_index] #compare to the first row\n",
    "    distance = 0\n",
    "    for row in matrix:\n",
    "        for i in range(len(reference)):\n",
    "            if row[i] != reference[i]:\n",
    "                distance += 1\n",
    "    return distance\n",
    "\n",
    "Hamming_distance(X)"
   ]
  },
  {
   "cell_type": "markdown",
   "metadata": {},
   "source": [
    "However, it only works with sequences of identical lengths"
   ]
  },
  {
   "cell_type": "code",
   "execution_count": 94,
   "metadata": {},
   "outputs": [
    {
     "name": "stdout",
     "output_type": "stream",
     "text": [
      "['A', 'A', 'T', 'C', 'A', 'T', 'A', 'T', 'C', 'G', 'T']\n",
      "['T', 'A', 'C', 'G', 'T', 'G', 'G', 'C', 'C']\n",
      "['G', 'C', 'A', 'C', 'A', 'G', 'G', 'C', 'T', 'C', 'C', 'A', 'A', 'A']\n",
      "['G', 'C', 'C', 'G', 'A', 'G', 'C', 'A', 'A', 'A', 'C', 'C', 'T']\n",
      "['G', 'A', 'T', 'T', 'T']\n"
     ]
    },
    {
     "ename": "IndexError",
     "evalue": "list index out of range",
     "output_type": "error",
     "traceback": [
      "\u001b[31m---------------------------------------------------------------------------\u001b[39m",
      "\u001b[31mIndexError\u001b[39m                                Traceback (most recent call last)",
      "\u001b[36mCell\u001b[39m\u001b[36m \u001b[39m\u001b[32mIn[134]\u001b[39m\u001b[32m, line 18\u001b[39m\n\u001b[32m     15\u001b[39m     \u001b[38;5;28mprint\u001b[39m(seq)\n\u001b[32m     17\u001b[39m X = generate_random_dna_sequences()\n\u001b[32m---> \u001b[39m\u001b[32m18\u001b[39m \u001b[43mHamming_distance\u001b[49m\u001b[43m(\u001b[49m\u001b[43mX\u001b[49m\u001b[43m)\u001b[49m\n",
      "\u001b[36mCell\u001b[39m\u001b[36m \u001b[39m\u001b[32mIn[133]\u001b[39m\u001b[32m, line 6\u001b[39m, in \u001b[36mHamming_distance\u001b[39m\u001b[34m(matrix, reference_index)\u001b[39m\n\u001b[32m      4\u001b[39m \u001b[38;5;28;01mfor\u001b[39;00m row \u001b[38;5;129;01min\u001b[39;00m matrix:\n\u001b[32m      5\u001b[39m     \u001b[38;5;28;01mfor\u001b[39;00m i \u001b[38;5;129;01min\u001b[39;00m \u001b[38;5;28mrange\u001b[39m(\u001b[38;5;28mlen\u001b[39m(reference)):\n\u001b[32m----> \u001b[39m\u001b[32m6\u001b[39m         \u001b[38;5;28;01mif\u001b[39;00m \u001b[43mrow\u001b[49m\u001b[43m[\u001b[49m\u001b[43mi\u001b[49m\u001b[43m]\u001b[49m != reference[i]:\n\u001b[32m      7\u001b[39m             distance += \u001b[32m1\u001b[39m\n\u001b[32m      8\u001b[39m \u001b[38;5;28;01mreturn\u001b[39;00m distance\n",
      "\u001b[31mIndexError\u001b[39m: list index out of range"
     ]
    }
   ],
   "source": [
    "def generate_random_dna_sequences():\n",
    "    bases = ['A', 'T', 'C', 'G']\n",
    "    num_sequences = random.randint(5, 10)\n",
    "\n",
    "    sequences = []\n",
    "    for _ in range(num_sequences):\n",
    "        length = random.randint(5, 15)\n",
    "        sequence = [random.choice(bases) for _ in range(length)]\n",
    "        sequences.append(sequence)\n",
    "\n",
    "    return sequences\n",
    "\n",
    "random_dna = generate_random_dna_sequences()\n",
    "for i, seq in enumerate(random_dna, 1):\n",
    "    print(seq)\n",
    "\n",
    "X = generate_random_dna_sequences()\n",
    "Hamming_distance(X)\n"
   ]
  },
  {
   "cell_type": "markdown",
   "metadata": {},
   "source": [
    "### Consensus string (dunno if this should be included)\n",
    "Gets the most common nucleobases per index and then use it in the final string"
   ]
  },
  {
   "cell_type": "code",
   "execution_count": 95,
   "metadata": {},
   "outputs": [],
   "source": [
    "def consensus_string(matrix):\n",
    "    consensus = []\n",
    "    num_columns = len(matrix[0])\n",
    "\n",
    "    for col in range(num_columns):\n",
    "        column_bases = [row[col] for row in matrix]   \n",
    "        counts = Counter(column_bases)                \n",
    "        most_common = counts.most_common(1)[0][0]     \n",
    "        consensus.append(most_common)\n",
    "\n",
    "    return ''.join(consensus)"
   ]
  },
  {
   "cell_type": "code",
   "execution_count": 96,
   "metadata": {},
   "outputs": [
    {
     "name": "stdout",
     "output_type": "stream",
     "text": [
      "T C A G C C G A\n",
      "C T A A C G T G\n",
      "C G T A T C T G\n",
      "T T C T C T A T\n",
      "T T C T G T T T\n",
      "C C G A A G G T\n",
      "A G T C T A G T\n",
      "G T T C C C C C\n",
      "G C G C C G C A\n",
      "G A T T T G T G\n"
     ]
    },
    {
     "data": {
      "text/plain": [
       "'TTTACGTT'"
      ]
     },
     "execution_count": 96,
     "metadata": {},
     "output_type": "execute_result"
    }
   ],
   "source": [
    "P = generate_dna_sequences_samelength()\n",
    "\n",
    "for row in P:\n",
    "    print(\" \".join(row))\n",
    "\n",
    "consensus_string(P)"
   ]
  },
  {
   "cell_type": "markdown",
   "metadata": {},
   "source": [
    "## 1B. Levenshtein "
   ]
  },
  {
   "cell_type": "markdown",
   "metadata": {},
   "source": [
    "The levevnshtein edit distance works for strings with different lengths"
   ]
  },
  {
   "cell_type": "code",
   "execution_count": 97,
   "metadata": {},
   "outputs": [],
   "source": [
    "def levenshtein(string_one, string_two):\n",
    "    m = len(string_one)\n",
    "    n = len(string_two)\n",
    "\n",
    "    '''\n",
    "    if m == 0:\n",
    "        return n\n",
    "    if n == 0:\n",
    "        return m\n",
    "    '''\n",
    "\n",
    "    dp = [[0]*(n + 1) for _ in range(m + 1)]\n",
    "\n",
    "    for i in range(m + 1):\n",
    "        dp[i][0] = i\n",
    "    for j in range(n + 1):\n",
    "        dp[0][j] = j\n",
    "\n",
    "    for i in range(1, m + 1):\n",
    "        for j in range(1, n + 1):\n",
    "            if string_one[i - 1] == string_two[j - 1]:\n",
    "                dp[i][j] = dp[i - 1][j - 1]\n",
    "            else:\n",
    "                dp[i][j] = 1 + min([\n",
    "                                    dp[i][j - 1], \n",
    "                                    dp[i - 1][j], \n",
    "                                    dp[i - 1][j - 1]\n",
    "                                    ])\n",
    "    return dp[m][n]"
   ]
  },
  {
   "cell_type": "code",
   "execution_count": 98,
   "metadata": {},
   "outputs": [
    {
     "name": "stdout",
     "output_type": "stream",
     "text": [
      "['G', 'G', 'A', 'T', 'A', 'A', 'A', 'G', 'A', 'T', 'T']\n",
      "['A', 'T', 'A', 'C', 'C', 'G', 'T', 'C', 'C']\n",
      "['G', 'G', 'G', 'C', 'C']\n",
      "['A', 'T', 'T', 'C', 'G', 'C', 'T']\n",
      "['C', 'C', 'G', 'G', 'T', 'T', 'C', 'T', 'C', 'C', 'A', 'T', 'C']\n",
      "['A', 'A', 'C', 'C', 'T', 'G', 'T', 'G', 'C', 'C']\n",
      "['G', 'C', 'T', 'T', 'T', 'T', 'G', 'G', 'G', 'C', 'G', 'T']\n",
      "['T', 'T', 'A', 'C', 'T', 'G', 'C', 'G', 'G']\n",
      "['G', 'G', 'A', 'C', 'T', 'C', 'G', 'C', 'G', 'A', 'T', 'C']\n",
      "\n",
      "Levenshtein Distance Matrix:\n",
      "0 7 8 7 8 10 8 8 5\n",
      "7 0 6 4 9 3 9 5 7\n",
      "8 6 0 5 9 6 8 7 7\n",
      "7 4 5 0 8 6 7 5 6\n",
      "8 9 9 8 0 9 8 9 6\n",
      "10 3 6 6 9 0 8 6 7\n",
      "8 9 8 7 8 8 0 7 8\n",
      "8 5 7 5 9 6 7 0 6\n",
      "5 7 7 6 6 7 8 6 0\n"
     ]
    }
   ],
   "source": [
    "L = generate_random_dna_sequences()\n",
    "\n",
    "for i, seq in enumerate(L, 1):\n",
    "    print(seq)\n",
    "\n",
    "n = len(L)\n",
    "dist_matrix = np.zeros((n, n), dtype=int)\n",
    "\n",
    "for i in range(n):\n",
    "    for j in range(n):\n",
    "        dist_matrix[i, j] = levenshtein(L[i], L[j])\n",
    "\n",
    "print(\"\\nLevenshtein Distance Matrix:\")\n",
    "for row in dist_matrix:\n",
    "    print(' '.join(map(str, row)))\n"
   ]
  },
  {
   "cell_type": "markdown",
   "metadata": {},
   "source": []
  },
  {
   "cell_type": "markdown",
   "metadata": {},
   "source": []
  },
  {
   "cell_type": "code",
   "execution_count": 99,
   "metadata": {},
   "outputs": [],
   "source": [
    "seq1 = \"ATGCT\"\n",
    "seq2 = \"A-G-T\"\n",
    "seq3 = \"ATGTT\""
   ]
  },
  {
   "cell_type": "markdown",
   "metadata": {},
   "source": [
    "Aligned like this:\n",
    "\n",
    "A T G C T\n",
    "\n",
    "A - G - T\n",
    "\n",
    "A T G T T"
   ]
  },
  {
   "cell_type": "markdown",
   "metadata": {},
   "source": [
    "Each column shows how the characters line up, and differences can be counted."
   ]
  },
  {
   "cell_type": "code",
   "execution_count": 100,
   "metadata": {},
   "outputs": [
    {
     "name": "stdout",
     "output_type": "stream",
     "text": [
      "Aligned Sequences:\n",
      "A T G C T\n",
      "A - G - T\n",
      "A T G T T\n",
      "\n",
      "Total column mismatches: 3\n"
     ]
    }
   ],
   "source": [
    "sequences = [\n",
    "    ['A', 'T', 'G', 'C', 'T'],\n",
    "    ['A', '-', 'G', '-', 'T'],\n",
    "    ['A', 'T', 'G', 'T', 'T']\n",
    "]\n",
    "\n",
    "num_columns = len(sequences[0])\n",
    "num_sequences = len(sequences)\n",
    "mismatch_count = 0\n",
    "\n",
    "print(\"Aligned Sequences:\")\n",
    "for seq in sequences:\n",
    "    print(\" \".join(seq))\n",
    "\n",
    "# Go column by column\n",
    "for col in range(num_columns):\n",
    "    column = [sequences[row][col] for row in range(num_sequences)]\n",
    "    most_common = max(set(column), key=column.count)\n",
    "\n",
    "    # Count mismatches in the column\n",
    "    mismatches = sum(1 for base in column if base != most_common)\n",
    "    mismatch_count += mismatches\n",
    "\n",
    "print(f\"\\nTotal column mismatches: {mismatch_count}\")"
   ]
  },
  {
   "cell_type": "markdown",
   "metadata": {},
   "source": [
    "From there, one can build a consensus sequence by taking the most common character at each column from a multiple sequence alignment (MSA). It’s often used to summarize conserved regions across DNA, RNA, or protein sequences.\n",
    "\n",
    "For example, from the earlier alignment:\n",
    "\n",
    "The consensus sequence would be:\n",
    "A T G C T → because:\n",
    "\n",
    "Most frequent in col 1: A\n",
    "\n",
    "Most frequent in col 2: T\n",
    "\n",
    "Most frequent in col 3: G\n",
    "\n",
    "Most frequent in col 4: C (C vs T vs -)\n",
    "\n",
    "Most frequent in col 5: T"
   ]
  },
  {
   "cell_type": "code",
   "execution_count": 101,
   "metadata": {},
   "outputs": [
    {
     "name": "stdout",
     "output_type": "stream",
     "text": [
      "Consensus sequence: ATGTT\n"
     ]
    }
   ],
   "source": [
    "# Aligned sequences\n",
    "msa = [\n",
    "    ['A', 'T', 'G', 'C', 'T'],\n",
    "    ['A', '-', 'G', '-', 'T'],\n",
    "    ['A', 'T', 'G', 'T', 'T']\n",
    "]\n",
    "\n",
    "# Priority: Higher number = higher preference in a tie\n",
    "priority = {'A': 5, 'T': 4, 'G': 3, 'C': 2, '-': 1}\n",
    "\n",
    "consensus = \"\"\n",
    "\n",
    "for col in range(len(msa[0])):\n",
    "    # Get the column (i.e., characters at this position across all sequences)\n",
    "    column = [msa[row][col] for row in range(len(msa))]\n",
    "\n",
    "    # Find the base with the highest frequency; break ties by priority\n",
    "    most_common = max(\n",
    "        set(column),\n",
    "        key=lambda base: (column.count(base), priority.get(base, 0))\n",
    "    )\n",
    "\n",
    "    # Add to consensus string\n",
    "    consensus += most_common\n",
    "\n",
    "print(\"Consensus sequence:\", consensus)"
   ]
  },
  {
   "cell_type": "markdown",
   "metadata": {},
   "source": [
    "## 2. Local Sequence Alignment"
   ]
  },
  {
   "cell_type": "markdown",
   "metadata": {},
   "source": [
    "### 💡 What's the Goal?\n",
    "We want to find **local alignments** — the best matching **parts** of two DNA sequences.\n",
    "\n",
    "We'll use the **Smith-Waterman algorithm**, which is like Needleman-Wunsch but focuses on **matching subsequences**.\n",
    "\n",
    "### 🎯 What’s Different from Global Alignment?\n",
    "- **Global alignment** matches from start to end (Needleman-Wunsch).\n",
    "- **Local alignment** finds the **best part** of the sequences that match (Smith-Waterman).\n",
    "\n",
    "### Scoring System\n",
    "We give:\n",
    "- Match = **+2**\n",
    "- Mismatch = **-1**\n",
    "- Gap = **-2**\n",
    "- If score < 0, reset it to 0 (to find local regions)"
   ]
  },
  {
   "cell_type": "code",
   "execution_count": 102,
   "metadata": {},
   "outputs": [],
   "source": [
    "# Local alignment scoring\n",
    "match = 2\n",
    "mismatch = -1\n",
    "gap = -2\n",
    "\n",
    "def score(a, b):\n",
    "    return match if a == b else mismatch"
   ]
  },
  {
   "cell_type": "code",
   "execution_count": 103,
   "metadata": {},
   "outputs": [],
   "source": [
    "# STEP 2: ALGORITHM\n",
    "\n",
    "def smith_waterman(seq1, seq2):\n",
    "    m, n = len(seq1), len(seq2)\n",
    "    dp = np.zeros((m+1, n+1), dtype=int)\n",
    "    max_score = 0\n",
    "    max_pos = (0, 0)\n",
    "\n",
    "    for i in range(1, m+1):\n",
    "        for j in range(1, n+1):\n",
    "            match_score = dp[i-1][j-1] + score(seq1[i-1], seq2[j-1])\n",
    "            delete = dp[i-1][j] + gap\n",
    "            insert = dp[i][j-1] + gap\n",
    "            dp[i][j] = max(0, match_score, delete, insert)\n",
    "            if dp[i][j] > max_score:\n",
    "                max_score = dp[i][j]\n",
    "                max_pos = (i, j)\n",
    "\n",
    "    return dp, max_pos"
   ]
  },
  {
   "cell_type": "code",
   "execution_count": 104,
   "metadata": {},
   "outputs": [],
   "source": [
    "# STEP 3: VISUALIZE\n",
    "\n",
    "def show_matrix_with_headers(dp, seq1, seq2):\n",
    "    seq1 = '-' + seq1\n",
    "    seq2 = '-' + seq2\n",
    "    df = pd.DataFrame(dp, index=[c for c in seq1], columns=[c for c in seq2])\n",
    "    plt.figure(figsize=(10, 6))\n",
    "    ax = sns.heatmap(df, annot=True, fmt='d', cmap=\"YlOrRd\", cbar=False)\n",
    "    plt.title(\"Local Alignment Score Matrix\\n\\n(Sequence 2 on Top)\")\n",
    "    ax.set_xlabel(\"\")\n",
    "    ax.set_ylabel(\"Sequence 1 (Side)\")\n",
    "    plt.xticks(rotation=0)\n",
    "    plt.yticks(rotation=0)\n",
    "    plt.show()"
   ]
  },
  {
   "cell_type": "code",
   "execution_count": null,
   "metadata": {},
   "outputs": [
    {
     "data": {
      "image/png": "[encoded data removed]",
      "text/plain": [
       "<Figure size 1000x600 with 1 Axes>"
      ]
     },
     "metadata": {},
     "output_type": "display_data"
    }
   ],
   "source": [
    "# Jupyter Notebook Cell 7: Try it Out!\n",
    "seq1 = \"ATGCGTACCTAGTGCATGCA\"\n",
    "seq2 = \"CGTACGTACGTACGTAGC\"\n",
    "\n",
    "# Compute matrix and show it\n",
    "dp_matrix, max_pos = smith_waterman(seq1, seq2)\n",
    "show_matrix_with_headers(dp_matrix, seq1, seq2)"
   ]
  },
  {
   "cell_type": "markdown",
   "metadata": {},
   "source": [
    "### 🔄 Traceback in Local Alignment\n",
    "In local alignment, we **start the traceback from the highest score** in the matrix — not the bottom-right!\n",
    "\n",
    "We then trace back **until we hit a cell with score 0**, which means the best matching segment has ended.\n",
    "\n",
    "This gives us the best **local match** between the two sequences."
   ]
  },
  {
   "cell_type": "code",
   "execution_count": 106,
   "metadata": {},
   "outputs": [],
   "source": [
    "def traceback_local(dp, seq1, seq2, start):\n",
    "    aligned1 = \"\"\n",
    "    aligned2 = \"\"\n",
    "    i, j = start\n",
    "\n",
    "    while dp[i][j] != 0:\n",
    "        current = dp[i][j]\n",
    "        if i > 0 and j > 0 and current == dp[i-1][j-1] + score(seq1[i-1], seq2[j-1]):\n",
    "            aligned1 = seq1[i-1] + aligned1\n",
    "            aligned2 = seq2[j-1] + aligned2\n",
    "            i -= 1\n",
    "            j -= 1\n",
    "        elif i > 0 and current == dp[i-1][j] + gap:\n",
    "            aligned1 = seq1[i-1] + aligned1\n",
    "            aligned2 = '-' + aligned2\n",
    "            i -= 1\n",
    "        elif j > 0 and current == dp[i][j-1] + gap:\n",
    "            aligned1 = '-' + aligned1\n",
    "            aligned2 = seq2[j-1] + aligned2\n",
    "            j -= 1\n",
    "        else:\n",
    "            break\n",
    "    return aligned1, aligned2"
   ]
  },
  {
   "cell_type": "code",
   "execution_count": 107,
   "metadata": {},
   "outputs": [
    {
     "name": "stdout",
     "output_type": "stream",
     "text": [
      "🔬 Best Local Alignment:\n",
      "\n",
      "CGTACCTA-GTGCAT-GC\n",
      "CGTACGTACGTACGTAGC\n"
     ]
    }
   ],
   "source": [
    "aligned1, aligned2 = traceback_local(dp_matrix, seq1, seq2, max_pos)\n",
    "print(\"🔬 Best Local Alignment:\\n\")\n",
    "print(aligned1)\n",
    "print(aligned2)\n"
   ]
  },
  {
   "cell_type": "markdown",
   "metadata": {},
   "source": [
    "### ✅ What Did We Learn?\n",
    "- The **Smith-Waterman algorithm** helps us find **matching subsequences** inside larger sequences.\n",
    "- We built a matrix of scores and found the **highest scoring region**.\n",
    "- We used **traceback** to extract the best local alignment.\n",
    "\n",
    "Local alignment is used to detect **similar regions**, like in genes, even if the whole sequences are not similar!"
   ]
  },
  {
   "cell_type": "markdown",
   "metadata": {},
   "source": [
    "## 2A. BLAST"
   ]
  },
  {
   "cell_type": "markdown",
   "metadata": {},
   "source": [
    "### What is BLAST?\n",
    "\n",
    "BLAST, or Basic Local Alignment Search Tool, is an algorithm used to search for a query of DNA, RNA, or protein sequnce against a databse of sequences in order to find parts of local alignment or similarity. \n",
    "\n",
    "\n",
    "For our purposes, we will focus on DNA."
   ]
  },
  {
   "cell_type": "markdown",
   "metadata": {},
   "source": [
    "### Scoring System:\n",
    "Default:  \n",
    "Match = +1  \n",
    "Mismatch = -1  \n",
    "Threshold = 4  \n",
    "Extension_cutoff = 2  "
   ]
  },
  {
   "cell_type": "code",
   "execution_count": 109,
   "metadata": {},
   "outputs": [],
   "source": [
    "#Main Function\n",
    "\n",
    "\n",
    "def blast_dna(query, database, word_size=3, match_score=1, mismatch_score=-1, threshold=4, extension_cutoff=2):\n",
    "    results = []\n",
    "    score = 0\n",
    "    word_index = defaultdict(list)\n",
    "    for db_idx, target in enumerate(database):\n",
    "        for i in range(len(target) - word_size + 1):\n",
    "            word = target[i:i + word_size]\n",
    "            word_index[word].append((db_idx, i))\n",
    "\n",
    "    seen_alignments = set()  \n",
    "    \n",
    "    for q_pos in range(len(query) - word_size + 1):\n",
    "        q_word = query[q_pos:q_pos + word_size]\n",
    "        if q_word in word_index:\n",
    "            for (db_idx, db_pos) in word_index[q_word]:\n",
    "                score = word_size * match_score\n",
    "                initial_score = score\n",
    "                q_start, db_start = q_pos, db_pos\n",
    "                q_end, db_end = q_pos + word_size, db_pos + word_size\n",
    "\n",
    "                \n",
    "                while (q_end < len(query)) and (db_end < len(database[db_idx])):\n",
    "                    if query[q_end] == database[db_idx][db_end]:\n",
    "                        score += match_score\n",
    "                    else:\n",
    "                        score += mismatch_score\n",
    "                        if score < initial_score - extension_cutoff:\n",
    "                            break\n",
    "                    q_end += 1\n",
    "                    db_end += 1\n",
    "\n",
    "                \n",
    "                q_left, db_left = q_pos - 1, db_pos - 1\n",
    "                while q_left >= 0 and db_left >= 0:\n",
    "                    if query[q_left] == database[db_idx][db_left]:\n",
    "                        score += match_score\n",
    "                    else:\n",
    "                        score += mismatch_score\n",
    "                        if score < initial_score - extension_cutoff:\n",
    "                            break\n",
    "                    q_left -= 1\n",
    "                    db_left -= 1\n",
    "\n",
    "                \n",
    "                alignment_sig = (db_idx, q_left+1, q_end, db_left+1, db_end)\n",
    "                if score >= threshold and alignment_sig not in seen_alignments:\n",
    "                    seen_alignments.add(alignment_sig)\n",
    "                    results.append((\n",
    "                        score,\n",
    "                        query[q_left+1:q_end],\n",
    "                        database[db_idx][db_left+1:db_end],\n",
    "                        db_idx\n",
    "                    ))\n",
    "    \n",
    "    return sorted(results, reverse=True) if results else [(0, None, None, None)]\n"
   ]
  },
  {
   "cell_type": "markdown",
   "metadata": {},
   "source": [
    "### How BLAST works:\n",
    "### Word Size:\n",
    "BLAST works by having a specific word size, in this case 3, and comparing a local part of that sequence to the data base to find a match.  \n",
    "   \n",
    "What BLAST will do is from the query, take a slice of it that has 3 characters, (\"ACT\") and check if that slice exists in the database.  \n",
    "\n",
    "Word Size dictates how big that slice will be."
   ]
  },
  {
   "cell_type": "code",
   "execution_count": 110,
   "metadata": {},
   "outputs": [
    {
     "name": "stdout",
     "output_type": "stream",
     "text": [
      "Score: 4 | DB Index: 0\n",
      "Query : ACTA\n",
      "DB    : ACTA\n",
      "\n",
      "Score: 4 | DB Index: 0\n",
      "Query : ACTA\n",
      "DB    : ACTA\n",
      "\n"
     ]
    }
   ],
   "source": [
    "query = 'ACTA'\n",
    "database = ['GGGACTACTACTGGG']\n",
    "\n",
    "\n",
    "    \n",
    "results = blast_dna(query, database)\n",
    "\n",
    "if results == [(0, None, None, None)]:\n",
    "        print(\"No significant matches found.\")\n",
    "else:\n",
    "    for score, q, d, db_index in results:\n",
    "        print(f\"Score: {score} | DB Index: {db_index}\")\n",
    "        print(f\"Query : {q}\")\n",
    "        print(f\"DB    : {d}\")\n",
    "        print()"
   ]
  },
  {
   "cell_type": "markdown",
   "metadata": {},
   "source": [
    "Once it finds a match, it will now start to extend that slice.  \n",
    "\n",
    "So instead of \"ACT\", it will now check if the slice continues to match after extending it. It will now check \"ACTA\" from the query and extend the databse as well."
   ]
  },
  {
   "cell_type": "markdown",
   "metadata": {},
   "source": [
    "### Extension Cutoff and Threshold\n",
    "As mentioned earlier, BLAST keeps track of the score. For every match, it adds one point. For every mismatch, it will take away one point, and art of what makes BLAST special is the \"Threshold\" and \"Extension Cutoff\".  \n",
    "\n",
    "First, what is Extension Cutoff? \n",
    "What this means is that as long as the points recorded don't go below a certain level, BLAST will keep extending the query until it goes through the entire sequence.\n",
    "\n",
    "Example:"
   ]
  },
  {
   "cell_type": "code",
   "execution_count": 127,
   "metadata": {},
   "outputs": [
    {
     "name": "stdout",
     "output_type": "stream",
     "text": [
      "Score: 6 | DB Index: 0\n",
      "Query : ACTACT\n",
      "DB    : ACTACT\n",
      "Score: 6 | DB Index: 0\n",
      "Query : ACTACT\n",
      "DB    : ACTACT\n"
     ]
    }
   ],
   "source": [
    "query = 'ACTACT'\n",
    "database = ['GGGACTACTACTGGG']\n",
    "\n",
    "\n",
    "results = blast_dna(query, database)\n",
    "\n",
    "if results == [(0, None, None, None)]:\n",
    "        print(\"No significant matches found.\")\n",
    "else:\n",
    "    for score, q, d, db_index in results:\n",
    "        print(f\"Score: {score} | DB Index: {db_index}\")\n",
    "        print(f\"Query : {q}\")\n",
    "        print(f\"DB    : {d}\")"
   ]
  },
  {
   "cell_type": "markdown",
   "metadata": {},
   "source": [
    "But when the score recorded gets too low, it stops checking the rest of the sequence entirely, which is part of what makes BLAST so fast.  \n",
    "\n",
    "Example:"
   ]
  },
  {
   "cell_type": "code",
   "execution_count": 128,
   "metadata": {},
   "outputs": [
    {
     "name": "stdout",
     "output_type": "stream",
     "text": [
      "No significant matches found.\n"
     ]
    }
   ],
   "source": [
    "query = 'ACCCCCT'\n",
    "database = ['GGGACTACTACTGGG']\n",
    "\n",
    "\n",
    "results = blast_dna(query, database)\n",
    "\n",
    "if results == [(0, None, None, None)]:\n",
    "        print(\"No significant matches found.\")\n",
    "else:\n",
    "    for score, q, d, db_index in results:\n",
    "        print(f\"Score: {score} | DB Index: {db_index}\")\n",
    "        print(f\"Query : {q}\")\n",
    "        print(f\"DB    : {d}\")\n",
    "        print()"
   ]
  },
  {
   "cell_type": "markdown",
   "metadata": {},
   "source": [
    "As we can see here, though \"AC\" has a match, because there was the \"CCCC\" before finally reaching the \"T\", BLAST did not bother checking the rest of the sequence to see if it matched. Every \"C\" past the second one kept taking away 1 point until it reached the Extension Cutoff level, and the BLAST algorithm would stop checking the query sequence.\n",
    "\n",
    "\n",
    "<Say what a threshold is>\n",
    "\n",
    "Example:"
   ]
  },
  {
   "cell_type": "code",
   "execution_count": 129,
   "metadata": {},
   "outputs": [
    {
     "name": "stdout",
     "output_type": "stream",
     "text": [
      "No significant matches found.\n"
     ]
    }
   ],
   "source": [
    "query = 'ACTAG'\n",
    "database = ['ACTACT']\n",
    "\n",
    "\n",
    "results = blast_dna(query, database, threshold = 5)\n",
    "\n",
    "if results == [(0, None, None, None)]:\n",
    "        print(\"No significant matches found.\")\n",
    "else:\n",
    "    for score, q, d, db_index in results:\n",
    "        print(f\"Score: {score} | DB Index: {db_index}\")\n",
    "        print(f\"Query : {q}\")\n",
    "        print(f\"DB    : {d}\")\n",
    "        print()"
   ]
  },
  {
   "cell_type": "markdown",
   "metadata": {},
   "source": [
    "Just for example purposes, the algorithm prints a score of 3 and the database index, but if you look at what the algorithm actually returns, it says [0, None, None, None]. Why? Especially since \"ACTAG\" and \"ACTACT\" both have \"ACTA\" in them?  \n",
    "\n",
    "This is because of the Threshold level, where in this case, is set to 5.  \n",
    "\n",
    "This means that the algorith will only ever flag a match if the total score at the end, is at least 5. But in the example, the score is 4. Because the score is only 4, and thus below the threshold, the algorithm does not flag it as a strong match."
   ]
  },
  {
   "cell_type": "markdown",
   "metadata": {},
   "source": [
    "### Why is this important?\n",
    "\n",
    "If you are using the algorithm to find the best local alignment quickly, having a Threshold and a Extension Cutoff help the algorithm to save time by only flagging sequences if they reach a specific score, and if they go below the Extension Cutoff, it allows the algorithm to skip to the next sequence.\n",
    "\n",
    "Basically:  \n",
    "- Higher Threshold, more similarities needed to be flagged as a hit.\n",
    "- Higher Extension Cutoff, more leeway for differences before the algorithm skips checking that sequence.\n",
    "\n",
    "BLAST is good because you can adjust these values, letting you change how strong or weak the matches you want flagged to be, and how much leeway each sequence gets before the algorithm moves on, affecting the speed of how fast BLAST checks. This is especially important for longer sequences  \n",
    "More Examples:"
   ]
  },
  {
   "cell_type": "code",
   "execution_count": 114,
   "metadata": {},
   "outputs": [
    {
     "name": "stdout",
     "output_type": "stream",
     "text": [
      "No significant matches found.\n"
     ]
    }
   ],
   "source": [
    "query = 'ACTACTACTACTACT'\n",
    "database = ['ACTACTACTACG']\n",
    "\n",
    "#High Threshold\n",
    "results = blast_dna(query, database, threshold = 12)\n",
    "\n",
    "if results == [(0, None, None, None)]:\n",
    "        print(\"No significant matches found.\")\n",
    "else:\n",
    "    for score, q, d, db_index in results:\n",
    "        print(f\"Score: {score} | DB Index: {db_index}\")\n",
    "        print(f\"Query : {q}\")\n",
    "        print(f\"DB    : {d}\")\n",
    "        print()"
   ]
  },
  {
   "cell_type": "code",
   "execution_count": 115,
   "metadata": {},
   "outputs": [
    {
     "name": "stdout",
     "output_type": "stream",
     "text": [
      "Score: 7 | DB Index: 0\n",
      "Query : ACTACTACT\n",
      "DB    : ACTACTACG\n",
      "\n",
      "Score: 6 | DB Index: 0\n",
      "Query : ACTACT\n",
      "DB    : ACTACT\n",
      "\n",
      "Score: 4 | DB Index: 0\n",
      "Query : ACTACTACTACT\n",
      "DB    : ACTACTACGTAC\n",
      "\n"
     ]
    }
   ],
   "source": [
    "query = 'ACTACTACTACTACTACT'\n",
    "database = ['ACTACTACGTACGTACGT']\n",
    "\n",
    "#High Extension Cutoff \n",
    "results = blast_dna(query, database, extension_cutoff = 10)\n",
    "\n",
    "if results == [(0, None, None, None)]:\n",
    "        print(\"No significant matches found.\")\n",
    "else:\n",
    "    for score, q, d, db_index in results:\n",
    "        print(f\"Score: {score} | DB Index: {db_index}\")\n",
    "        print(f\"Query : {q}\")\n",
    "        print(f\"DB    : {d}\")\n",
    "        print()"
   ]
  },
  {
   "cell_type": "code",
   "execution_count": 116,
   "metadata": {},
   "outputs": [
    {
     "name": "stdout",
     "output_type": "stream",
     "text": [
      "Score: 3 | DB Index: 0\n",
      "Query : AATGG\n",
      "DB    : ACTGG\n",
      "\n"
     ]
    }
   ],
   "source": [
    "query = 'AAATGG'\n",
    "database = ['ACTGGACTACTACTACT']\n",
    "\n",
    "#Low Threshold\n",
    "results = blast_dna(query, database, threshold = 2)\n",
    "\n",
    "if results == [(0, None, None, None)]:\n",
    "        print(\"No significant matches found.\")\n",
    "else:\n",
    "    for score, q, d, db_index in results:\n",
    "        print(f\"Score: {score} | DB Index: {db_index}\")\n",
    "        print(f\"Query : {q}\")\n",
    "        print(f\"DB    : {d}\")\n",
    "        print()"
   ]
  },
  {
   "cell_type": "code",
   "execution_count": 117,
   "metadata": {},
   "outputs": [
    {
     "name": "stdout",
     "output_type": "stream",
     "text": [
      "No significant matches found.\n"
     ]
    }
   ],
   "source": [
    "query = 'ACTACTACTACTACTACTACT'\n",
    "database = ['ACTGGACTGGACTGGACTGGACTGG']\n",
    "\n",
    "#low Extension Cutoff\n",
    "results = blast_dna(query, database, extension_cutoff = 1)\n",
    "\n",
    "if results == [(0, None, None, None)]:\n",
    "        print(\"No significant matches found.\")\n",
    "else:\n",
    "    for score, q, d, db_index in results:\n",
    "        print(f\"Score: {score} | DB Index: {db_index}\")\n",
    "        print(f\"Query : {q}\")\n",
    "        print(f\"DB    : {d}\")\n",
    "        print()"
   ]
  },
  {
   "cell_type": "markdown",
   "metadata": {},
   "source": [
    "### Experiment!\n",
    "\n",
    "Experiment with different Word Sizes, Extension Cutoffs, and Thresholds."
   ]
  },
  {
   "cell_type": "code",
   "execution_count": 118,
   "metadata": {},
   "outputs": [
    {
     "name": "stdout",
     "output_type": "stream",
     "text": [
      "DATABASE:\n",
      "DB[0]: TCCGGGCT\n",
      "DB[1]: GATGAACTATA\n",
      "DB[2]: GCTCTCAGGTAG\n",
      "DB[3]: CTTGCCTT\n",
      "DB[4]: GAAAAAGGTG\n",
      "DB[5]: AAAGACATCCC\n",
      "DB[6]: TAGGCAAA\n",
      "DB[7]: GACGTGTCA\n",
      "DB[8]: GGCCTTGAGCCT\n",
      "DB[9]: CCACTTGCA\n",
      "\n",
      "QUERY:\n",
      "\n",
      "Query[0]: TCCGGGCT\n",
      "Score: 8 | DB Index: 0\n",
      "Query : TCCGGGCT\n",
      "DB    : TCCGGGCT\n",
      "\n"
     ]
    }
   ],
   "source": [
    "#Random database\n",
    "database_list= ['TCCGGGCT', 'GATGAACTATA', 'GCTCTCAGGTAG', 'CTTGCCTT', 'GAAAAAGGTG', 'AAAGACATCCC', 'TAGGCAAA', 'GACGTGTCA', 'GGCCTTGAGCCT', 'CCACTTGCA']\n",
    "\n",
    "#Add a query!\n",
    "query_list = [\"TCCGGGCT\"]\n",
    "\n",
    "print(\"DATABASE:\")\n",
    "for i, seq in enumerate(database_list):\n",
    "    print(f\"DB[{i}]: {seq}\")\n",
    "\n",
    "print(\"\\nQUERY:\")\n",
    "\n",
    "for qi, query in enumerate(query_list):\n",
    "    print(f\"\\nQuery[{qi}]: {query}\")\n",
    "    \n",
    "    #Change BLAST parameters here!\n",
    "    \n",
    "    results = blast_dna(query, database_list, word_size=3, match_score=1, mismatch_score=-1, threshold=4, extension_cutoff=2)\n",
    "\n",
    "    if results == [(0, None, None, None)]:\n",
    "        print(\"No significant matches found.\")\n",
    "    else:\n",
    "        for score, q, d, db_index in results:\n",
    "            print(f\"Score: {score} | DB Index: {db_index}\")\n",
    "            print(f\"Query : {q}\")\n",
    "            print(f\"DB    : {d}\")\n",
    "            print()"
   ]
  },
  {
   "cell_type": "markdown",
   "metadata": {},
   "source": [
    "# 3. Global Sequence Alignment"
   ]
  },
  {
   "cell_type": "markdown",
   "metadata": {},
   "source": [
    "### 💡 What's the Goal?\n",
    "We want to line up two sequences (like `ATGCGTACCTAGTGCATGCA` and `CGTACGTACGTACGTAGC5`) to find the best match between them — from start to end. We find this by usinga scoring system to fill out a matrix.\n",
    "\n",
    "### Scoring System\n",
    "We give:\n",
    "- **+1 point** for a match\n",
    "- **-1 point** for a mismatch\n",
    "- **-2 points** for a gap (space)"
   ]
  },
  {
   "cell_type": "code",
   "execution_count": 119,
   "metadata": {},
   "outputs": [],
   "source": [
    "# STEP 1: SETUP\n",
    "\n",
    "import numpy as np\n",
    "import matplotlib.pyplot as plt\n",
    "import seaborn as sns\n",
    "\n",
    "# Score settings\n",
    "match = 1\n",
    "mismatch = -1\n",
    "gap = -2"
   ]
  },
  {
   "cell_type": "code",
   "execution_count": 120,
   "metadata": {},
   "outputs": [],
   "source": [
    "# Jupyter Notebook Cell 4: Scoring function\n",
    "def score(a, b):\n",
    "    return match if a == b else mismatch"
   ]
  },
  {
   "cell_type": "code",
   "execution_count": 121,
   "metadata": {},
   "outputs": [],
   "source": [
    "# Jupyter Notebook Cell 5: Needleman-Wunsch Algorithm\n",
    "def needleman_wunsch(seq1, seq2):\n",
    "    m, n = len(seq1), len(seq2)\n",
    "    dp = np.zeros((m+1, n+1), dtype=int)\n",
    "\n",
    "    # Initialize first row and column\n",
    "    for i in range(1, m+1):\n",
    "        dp[i][0] = dp[i-1][0] + gap\n",
    "    for j in range(1, n+1):\n",
    "        dp[0][j] = dp[0][j-1] + gap\n",
    "\n",
    "    # Fill the matrix\n",
    "    for i in range(1, m+1):\n",
    "        for j in range(1, n+1):\n",
    "            match_score = dp[i-1][j-1] + score(seq1[i-1], seq2[j-1])\n",
    "            delete = dp[i-1][j] + gap\n",
    "            insert = dp[i][j-1] + gap\n",
    "            dp[i][j] = max(match_score, delete, insert)\n",
    "\n",
    "    return dp"
   ]
  },
  {
   "cell_type": "code",
   "execution_count": 122,
   "metadata": {},
   "outputs": [],
   "source": [
    "# Jupyter Notebook Cell 6: Step-by-step visualization\n",
    "\n",
    "def show_matrix(dp, seq1, seq2):\n",
    "    plt.figure(figsize=(10, 6))\n",
    "    ax = sns.heatmap(dp, annot=True, fmt='d', cmap=\"YlGnBu\", cbar=False, \n",
    "                     xticklabels=['-'] + list(seq2), \n",
    "                     yticklabels=['-'] + list(seq1))\n",
    "    plt.title(\"Alignment Score Matrix\")\n",
    "    plt.xlabel(\"Sequence 2\")\n",
    "    plt.ylabel(\"Sequence 1\")\n",
    "    plt.show()\n"
   ]
  },
  {
   "cell_type": "code",
   "execution_count": null,
   "metadata": {},
   "outputs": [
    {
     "data": {
      "image/png": "[encoded data removed]",
      "text/plain": [
       "<Figure size 1000x600 with 1 Axes>"
      ]
     },
     "metadata": {},
     "output_type": "display_data"
    }
   ],
   "source": [
    "# Jupyter Notebook Cell 7: Try it Out!\n",
    "seq1 = \"ATGCGTACCTAGTGCATGCA\"\n",
    "seq2 = \"CGTACGTACGTACGTAGC\"\n",
    "\n",
    "dp_matrix = needleman_wunsch(seq1, seq2)\n",
    "show_matrix(dp_matrix, seq1, seq2)\n"
   ]
  },
  {
   "cell_type": "markdown",
   "metadata": {},
   "source": [
    "### 🔄 Traceback: Finding the Best Alignment\n",
    "\n",
    "Now that we have filled the scoring matrix, we want to find the **best alignment** of the two sequences.\n",
    "\n",
    "To do that, we **trace back** from the **bottom-right corner** of the matrix to the **top-left corner**.\n",
    "\n",
    "### ✅ Rules for Traceback:\n",
    "At each cell, we ask:\n",
    "1. **Did we come from a diagonal?**\n",
    "   - This means we matched or mismatched two letters.\n",
    "2. **Did we come from the left?**\n",
    "   - This means we inserted a gap in the first sequence.\n",
    "3. **Did we come from above?**\n",
    "   - This means we inserted a gap in the second sequence.\n",
    "\n",
    "We keep moving until we reach the top-left of the matrix.\n",
    "\n",
    "### 🎯 Goal:\n",
    "We build two new sequences with:\n",
    "- Letters from the original sequences\n",
    "- Gaps (`-`) where insertions/deletions happened\n",
    "\n",
    "This gives us the best possible **global alignment**!"
   ]
  },
  {
   "cell_type": "code",
   "execution_count": 124,
   "metadata": {},
   "outputs": [],
   "source": [
    "# Jupyter Notebook Cell 8: Traceback to Show Aligned Sequences\n",
    "def traceback(dp, seq1, seq2):\n",
    "    aligned1 = \"\"\n",
    "    aligned2 = \"\"\n",
    "    i, j = len(seq1), len(seq2)\n",
    "\n",
    "    while i > 0 or j > 0:\n",
    "        current = dp[i][j]\n",
    "        if i > 0 and j > 0 and current == dp[i-1][j-1] + score(seq1[i-1], seq2[j-1]):\n",
    "            aligned1 = seq1[i-1] + aligned1\n",
    "            aligned2 = seq2[j-1] + aligned2\n",
    "            i -= 1\n",
    "            j -= 1\n",
    "        elif i > 0 and current == dp[i-1][j] + gap:\n",
    "            aligned1 = seq1[i-1] + aligned1\n",
    "            aligned2 = \"-\" + aligned2\n",
    "            i -= 1\n",
    "        else:\n",
    "            aligned1 = \"-\" + aligned1\n",
    "            aligned2 = seq2[j-1] + aligned2\n",
    "            j -= 1\n",
    "\n",
    "    return aligned1, aligned2"
   ]
  },
  {
   "cell_type": "code",
   "execution_count": 125,
   "metadata": {},
   "outputs": [
    {
     "name": "stdout",
     "output_type": "stream",
     "text": [
      "🔬 Final Alignment:\n",
      "\n",
      "-ATGCGTACCTAGTGCATGCA\n",
      "CGTACGTACGTA-CGTA-GC-\n"
     ]
    }
   ],
   "source": [
    "# Jupyter Notebook Cell 9: Show Final Result\n",
    "aligned1, aligned2 = traceback(dp_matrix, seq1, seq2)\n",
    "\n",
    "print(\"🔬 Final Alignment:\\n\")\n",
    "print(aligned1)\n",
    "print(aligned2)"
   ]
  },
  {
   "cell_type": "markdown",
   "metadata": {},
   "source": [
    "### Jupyter Notebook Cell 10: Summary\n",
    "\n",
    "### ✅ What Did We Learn?\n",
    "- We learned how to align two sequences using the **Needleman-Wunsch algorithm**.\n",
    "- We visualized how scores are calculated in a matrix.\n",
    "- We traced back to get the **best global alignment**!\n",
    "\n",
    "This is useful for comparing DNA, proteins, or any kind of strings!"
   ]
  },
  {
   "cell_type": "markdown",
   "metadata": {},
   "source": [
    "## 3B. Multisequence\n",
    "\n",
    "MSA is the process of aligning three or more sequences (DNA, RNA, or proteins) so that similar characters are in the same column. This helps identify conserved regions, which may be important biologically (e.g., active sites in enzymes).\n",
    "\n",
    "In simple terms, we insert gaps (-) into sequences so that as many characters as possible match when stacked vertically.\n",
    "\n",
    "Example Imput Sequences:"
   ]
  },
  {
   "cell_type": "markdown",
   "metadata": {},
   "source": []
  }
 ],
 "metadata": {
  "kernelspec": {
   "display_name": "base",
   "language": "python",
   "name": "python3"
  },
  "language_info": {
   "codemirror_mode": {
    "name": "ipython",
    "version": 3
   },
   "file_extension": ".py",
   "mimetype": "text/x-python",
   "name": "python",
   "nbconvert_exporter": "python",
   "pygments_lexer": "ipython3",
   "version": "3.13.2"
  }
 },
 "nbformat": 4,
 "nbformat_minor": 4
}
