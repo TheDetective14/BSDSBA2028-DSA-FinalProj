{
 "cells": [
  {
   "cell_type": "markdown",
   "metadata": {},
   "source": [
    "## Bioinformatics: Sequence Alignment\n",
    "Sequence alignment in bioinformatics is the process of comparing DNA, RNA, or protein sequences to find similarities. It helps scientists understand relationships, functions, or evolutionary history. By lining up sequences, we can spot matches, differences, and important regions."
   ]
  },
  {
   "cell_type": "code",
   "execution_count": null,
   "metadata": {},
   "outputs": [],
   "source": [
    "from collections import Counter\n",
    "import random\n",
    "import numpy as np"
   ]
  },
  {
   "cell_type": "markdown",
   "metadata": {},
   "source": [
    "## Bioinformatics II: Sequence Alignment \n",
    "\n",
    "References:\n",
    "Jones and Pevzner 2004, An Introduction to Bioinformatics Algorithms"
   ]
  },
  {
   "cell_type": "markdown",
   "metadata": {},
   "source": [
    "# Edit distance\n",
    "Finds how dissimilar two strings are to one another by calculating the minimum number of edits needed to make the two identical. \n",
    "\n",
    "# Similarity Searches in bioinformatics\n",
    "- DNA sequence comparison: when biologists infer a newly sequenced gene’s function by finding similarities with genes of known function. \n",
    "- DNA mutation is caused by DNA replication errors leading to substitutions, insertions, and deletions of nucleotides. \n",
    "\n",
    "- In 1984, scientists found v-sis oncogene, a cancer-causing gene. They compared it with all known genes from that time, and it matched with a normal growth and development gene. They hypothesized that cancer was caused by the normal growth gene doing its job at the wrong time. \n",
    "- Similarly, the Cystic fibrosis gene was discovered through a successful similarity search as well. Cystic fibrosis is a fatal disease which damages body organs and causes thick, lung clogging mucus. "
   ]
  },
  {
   "cell_type": "markdown",
   "metadata": {},
   "source": []
  },
  {
   "cell_type": "markdown",
   "metadata": {},
   "source": [
    "## Consensus string (dunno if this should be included)\n",
    "Gets the most common nucleobases per index and then use it in the final string"
   ]
  },
  {
   "cell_type": "code",
   "execution_count": null,
   "metadata": {},
   "outputs": [],
   "source": [
    "def consensus_string(matrix):\n",
    "    consensus = []\n",
    "    num_columns = len(matrix[0])\n",
    "\n",
    "    for col in range(num_columns):\n",
    "        column_bases = [row[col] for row in matrix]   \n",
    "        counts = Counter(column_bases)                \n",
    "        most_common = counts.most_common(1)[0][0]     \n",
    "        consensus.append(most_common)\n",
    "\n",
    "    return ''.join(consensus)"
   ]
  },
  {
   "cell_type": "code",
   "execution_count": null,
   "metadata": {},
   "outputs": [],
   "source": [
    "P = generate_matrix()\n",
    "\n",
    "for row in P:\n",
    "    print(\" \".join(row))\n",
    "\n",
    "consensus_string(P)"
   ]
  },
  {
   "cell_type": "markdown",
   "metadata": {},
   "source": [
    "## 1. Hamming Distance\n",
    "The number of positions that differ in two strings of equal lengths. \n",
    "The symbols may be letters, bits, or decimal digits, among other possibilities. \n",
    "For example, the Hamming distance between:\n",
    "- \"karolin\" and \"kathrin\" is 3.\n",
    "- \"karolin\" and \"kerstin\" is 3.\n",
    "- \"kathrin\" and \"kerstin\" is 4.\n",
    "- 0000 and 1111 is 4.\n",
    "- 2173896 and 2233796 is 3."
   ]
  },
  {
   "cell_type": "code",
   "execution_count": null,
   "metadata": {},
   "outputs": [],
   "source": [
    "a = ['A', 'T', 'T', 'G', 'T', 'C']\n",
    "b = ['A', 'C', 'T', 'C', 'T', 'C']\n",
    "\n",
    "distance = 0\n",
    "\n",
    "print(f'Distance: {distance}')\n",
    "\n",
    "for i in range (len(a)):\n",
    "  if a[i] != b[i]:\n",
    "    distance += 1\n",
    "\n",
    "print(f'Hamming distance: {distance}')"
   ]
  },
  {
   "cell_type": "code",
   "execution_count": null,
   "metadata": {},
   "outputs": [],
   "source": [
    "# Counts how many nucleobases (A,T,C,G) are different from the REFERENCE SEQUENCE in the first row \n",
    "\n",
    "#generate dna sequences of the same length\n",
    "def generate_dna_sequences_samelength():\n",
    "    bases = ['A', 'T', 'C', 'G']\n",
    "    matrix_rows = random.randint(5, 10) #number of dna sequences\n",
    "\n",
    "    sequences = []\n",
    "    length = random.randint(5,8)\n",
    "    for row in range(matrix_rows):\n",
    "        sequence = [random.choice(bases) for column in range(length)]\n",
    "        sequences.append(sequence)\n",
    "\n",
    "    return sequences\n",
    "\n",
    "X = generate_dna_sequences_samelength()\n",
    "\n",
    "for row in X:\n",
    "    print(\" \".join(row))"
   ]
  },
  {
   "cell_type": "code",
   "execution_count": null,
   "metadata": {},
   "outputs": [],
   "source": [
    "def Hamming_distance(matrix, reference_index=0):\n",
    "    reference = matrix[reference_index] #compare to the first row\n",
    "    distance = 0\n",
    "    for row in matrix:\n",
    "        for i in range(len(reference)):\n",
    "            if row[i] != reference[i]:\n",
    "                distance += 1\n",
    "    return distance\n",
    "\n",
    "Hamming_distance(X)"
   ]
  },
  {
   "cell_type": "markdown",
   "metadata": {},
   "source": [
    "However, it only works with sequences of identical lengths"
   ]
  },
  {
   "cell_type": "code",
   "execution_count": null,
   "metadata": {},
   "outputs": [],
   "source": [
    "def generate_random_dna_sequences():\n",
    "    bases = ['A', 'T', 'C', 'G']\n",
    "    num_sequences = random.randint(5, 10)\n",
    "\n",
    "    sequences = []\n",
    "    for _ in range(num_sequences):\n",
    "        length = random.randint(5, 15)\n",
    "        sequence = [random.choice(bases) for _ in range(length)]\n",
    "        sequences.append(sequence)\n",
    "\n",
    "    return sequences\n",
    "\n",
    "random_dna = generate_random_dna_sequences()\n",
    "for i, seq in enumerate(random_dna, 1):\n",
    "    print(seq)\n",
    "\n",
    "X = generate_random_dna_sequences()\n",
    "Hamming_distance(X)\n"
   ]
  },
  {
   "cell_type": "markdown",
   "metadata": {},
   "source": [
    "## 2. Levenshtein \n",
    "The levevnshtein edit distance works for strings with different lengths"
   ]
  },
  {
   "cell_type": "code",
   "execution_count": null,
   "metadata": {},
   "outputs": [],
   "source": [
    "def levenshtein(string_one, string_two):\n",
    "    m = len(string_one)\n",
    "    n = len(string_two)\n",
    "\n",
    "    '''\n",
    "    if m == 0:\n",
    "        return n\n",
    "    if n == 0:\n",
    "        return m\n",
    "    '''\n",
    "\n",
    "    dp = [[0]*(n + 1) for _ in range(m + 1)]\n",
    "\n",
    "    for i in range(m + 1):\n",
    "        dp[i][0] = i\n",
    "    for j in range(n + 1):\n",
    "        dp[0][j] = j\n",
    "\n",
    "    for i in range(1, m + 1):\n",
    "        for j in range(1, n + 1):\n",
    "            if string_one[i - 1] == string_two[j - 1]:\n",
    "                dp[i][j] = dp[i - 1][j - 1]\n",
    "            else:\n",
    "                dp[i][j] = 1 + min([\n",
    "                                    dp[i][j - 1], \n",
    "                                    dp[i - 1][j], \n",
    "                                    dp[i - 1][j - 1]\n",
    "                                    ])\n",
    "    return dp[m][n]"
   ]
  },
  {
   "cell_type": "code",
   "execution_count": null,
   "metadata": {},
   "outputs": [],
   "source": [
    "L = generate_random_dna_sequences()\n",
    "\n",
    "for i, seq in enumerate(L, 1):\n",
    "    print(seq)\n",
    "\n",
    "n = len(L)\n",
    "dist_matrix = np.zeros((n, n), dtype=int)\n",
    "\n",
    "for i in range(n):\n",
    "    for j in range(n):\n",
    "        dist_matrix[i, j] = levenshtein(L[i], L[j])\n",
    "\n",
    "# Display the distance matrix\n",
    "print(\"\\nLevenshtein Distance Matrix:\")\n",
    "for row in dist_matrix:\n",
    "    print(' '.join(map(str, row)))\n"
   ]
  },
  {
   "cell_type": "markdown",
   "metadata": {},
   "source": [
    "## 3. Multisequence\n",
    "Description"
   ]
  },
  {
   "cell_type": "markdown",
   "metadata": {},
   "source": [
    "## 4. Local Sequence Alignment (Done)\n"
   ]
  },
  {
   "cell_type": "markdown",
   "metadata": {},
   "source": [
    "## 5. Global Sequence Alignment (Done)\n"
   ]
  },
  {
   "cell_type": "markdown",
   "metadata": {},
   "source": [
    "## 7. BLAST \n",
    "Why blast is fast & \n",
    "Why blast is incomplete "
   ]
  },
  {
   "cell_type": "markdown",
   "metadata": {},
   "source": []
  }
 ],
 "metadata": {
  "kernelspec": {
   "display_name": "base",
   "language": "python",
   "name": "python3"
  },
  "language_info": {
   "codemirror_mode": {
    "name": "ipython",
    "version": 3
   },
   "file_extension": ".py",
   "mimetype": "text/x-python",
   "name": "python",
   "nbconvert_exporter": "python",
   "pygments_lexer": "ipython3",
   "version": "3.13.5"
  }
 },
 "nbformat": 4,
 "nbformat_minor": 4
}
