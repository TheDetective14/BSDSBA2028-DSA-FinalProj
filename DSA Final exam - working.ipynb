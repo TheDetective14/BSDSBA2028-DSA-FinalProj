{
 "cells": [
  {
   "cell_type": "markdown",
   "metadata": {},
   "source": [
    "## Bioinformatics: Sequence Alignment\n",
    "Sequence alignment in bioinformatics is the process of comparing DNA, RNA, or protein sequences to find similarities. It helps scientists understand relationships, functions, or evolutionary history. By lining up sequences, we can spot matches, differences, and important regions."
   ]
  },
  {
   "cell_type": "code",
   "execution_count": 1,
   "metadata": {},
   "outputs": [],
   "source": [
    "from collections import Counter\n",
    "import random"
   ]
  },
  {
   "cell_type": "markdown",
   "metadata": {},
   "source": [
    "## Hamming Distance\n",
    "The number of positions that differ in two strings +++"
   ]
  },
  {
   "cell_type": "code",
   "execution_count": 11,
   "metadata": {},
   "outputs": [
    {
     "name": "stdout",
     "output_type": "stream",
     "text": [
      "Distance: 0\n",
      "Hamming distance: 2\n"
     ]
    }
   ],
   "source": [
    "a = ['A', 'T', 'T', 'G', 'T', 'C']\n",
    "b = ['A', 'C', 'T', 'C', 'T', 'C']\n",
    "\n",
    "distance = 0\n",
    "\n",
    "print(f'Distance: {distance}')\n",
    "\n",
    "for i in range (len(a)):\n",
    "  if a[i] != b[i]:\n",
    "    distance += 1\n",
    "\n",
    "print(f'Hamming distance: {distance}')"
   ]
  },
  {
   "cell_type": "code",
   "execution_count": 3,
   "metadata": {},
   "outputs": [],
   "source": [
    "# Counts how many nucleobases (A,T,C,G) are different from the REFERENCE SEQUENCE in the first row \n",
    "\n",
    "#same length version\n",
    "def generate_matrix():\n",
    "    bases = ['A', 'T', 'C', 'G']\n",
    "    matrix_rows = random.randint(5, 10) #number of dna sequences\n",
    "\n",
    "    sequences = []\n",
    "    length = random.randint(5,8)\n",
    "    for row in range(matrix_rows):\n",
    "        sequence = [random.choice(bases) for column in range(length)]\n",
    "        sequences.append(sequence)\n",
    "\n",
    "    return sequences"
   ]
  },
  {
   "cell_type": "code",
   "execution_count": 4,
   "metadata": {},
   "outputs": [
    {
     "name": "stdout",
     "output_type": "stream",
     "text": [
      "A C A C C G G\n",
      "T C T A G C T\n",
      "A G C T T A T\n",
      "A T C A G A T\n",
      "A A T C A G C\n",
      "G T T G T A T\n"
     ]
    }
   ],
   "source": [
    "X = generate_matrix()\n",
    "\n",
    "for row in X:\n",
    "    print(\" \".join(row))"
   ]
  },
  {
   "cell_type": "code",
   "execution_count": 5,
   "metadata": {},
   "outputs": [],
   "source": [
    "def Hamming_distance(matrix, reference_index=0):\n",
    "    reference = matrix[reference_index] #compare to the first row\n",
    "    distance = 0\n",
    "    for row in matrix:\n",
    "        for i in range(len(reference)):\n",
    "            if row[i] != reference[i]:\n",
    "                distance += 1\n",
    "    return distance"
   ]
  },
  {
   "cell_type": "code",
   "execution_count": 6,
   "metadata": {},
   "outputs": [
    {
     "data": {
      "text/plain": [
       "29"
      ]
     },
     "execution_count": 6,
     "metadata": {},
     "output_type": "execute_result"
    }
   ],
   "source": [
    "Hamming_distance(X)"
   ]
  },
  {
   "cell_type": "code",
   "execution_count": 7,
   "metadata": {},
   "outputs": [
    {
     "name": "stdout",
     "output_type": "stream",
     "text": [
      "['C', 'C', 'A', 'G', 'G', 'C', 'A', 'A']\n",
      "['C', 'G', 'G', 'A', 'G', 'T', 'A', 'T', 'A', 'C', 'G', 'C']\n",
      "['A', 'A', 'G', 'A', 'A']\n",
      "['T', 'C', 'T', 'C', 'G', 'C', 'T', 'C', 'T', 'C', 'T', 'A', 'C', 'A', 'A']\n",
      "['C', 'A', 'G', 'G', 'A', 'C', 'C', 'C', 'T', 'A', 'G', 'A', 'A', 'C', 'T']\n"
     ]
    }
   ],
   "source": [
    "#different lengths version\n",
    "def generate_random_dna_sequences():\n",
    "    bases = ['A', 'T', 'C', 'G']\n",
    "    num_sequences = random.randint(5, 10)\n",
    "\n",
    "    sequences = []\n",
    "    for _ in range(num_sequences):\n",
    "        length = random.randint(5, 15)\n",
    "        sequence = [random.choice(bases) for _ in range(length)]\n",
    "        sequences.append(sequence)\n",
    "\n",
    "    return sequences\n",
    "\n",
    "random_dna = generate_random_dna_sequences()\n",
    "for i, seq in enumerate(random_dna, 1):\n",
    "    print(seq)"
   ]
  },
  {
   "cell_type": "markdown",
   "metadata": {},
   "source": [
    "... the problem with this is that it only works for SAME lengths"
   ]
  },
  {
   "cell_type": "markdown",
   "metadata": {},
   "source": [
    "## Consensus string \n",
    "Gets the most common nucleobases per index and then use it in the final string"
   ]
  },
  {
   "cell_type": "code",
   "execution_count": 8,
   "metadata": {},
   "outputs": [],
   "source": [
    "def consensus_string(matrix):\n",
    "    consensus = []\n",
    "    num_columns = len(matrix[0])\n",
    "\n",
    "    for col in range(num_columns):\n",
    "        column_bases = [row[col] for row in matrix]   \n",
    "        counts = Counter(column_bases)                \n",
    "        most_common = counts.most_common(1)[0][0]     \n",
    "        consensus.append(most_common)\n",
    "\n",
    "    return ''.join(consensus)"
   ]
  },
  {
   "cell_type": "code",
   "execution_count": 9,
   "metadata": {},
   "outputs": [
    {
     "name": "stdout",
     "output_type": "stream",
     "text": [
      "C A C G C T C\n",
      "G T G A A G C\n",
      "T A T A T C T\n",
      "A C C C C T C\n",
      "G A A A G G A\n",
      "G G G A C C A\n",
      "A A A G T A A\n",
      "A C G T C A G\n"
     ]
    },
    {
     "data": {
      "text/plain": [
       "'GAGACTC'"
      ]
     },
     "execution_count": 9,
     "metadata": {},
     "output_type": "execute_result"
    }
   ],
   "source": [
    "P = generate_matrix()\n",
    "\n",
    "for row in P:\n",
    "    print(\" \".join(row))\n",
    "\n",
    "consensus_string(P)"
   ]
  },
  {
   "cell_type": "code",
   "execution_count": null,
   "metadata": {},
   "outputs": [],
   "source": []
  }
 ],
 "metadata": {
  "kernelspec": {
   "display_name": "base",
   "language": "python",
   "name": "python3"
  },
  "language_info": {
   "codemirror_mode": {
    "name": "ipython",
    "version": 3
   },
   "file_extension": ".py",
   "mimetype": "text/x-python",
   "name": "python",
   "nbconvert_exporter": "python",
   "pygments_lexer": "ipython3",
   "version": "3.13.5"
  }
 },
 "nbformat": 4,
 "nbformat_minor": 4
}
