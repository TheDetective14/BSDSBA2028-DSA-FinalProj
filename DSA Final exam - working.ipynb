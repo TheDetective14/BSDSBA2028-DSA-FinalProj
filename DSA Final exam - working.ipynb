{
 "cells": [
  {
   "cell_type": "markdown",
   "metadata": {},
   "source": [
    "## Bioinformatics: Sequence Alignment\n",
    "Sequence alignment in bioinformatics is the process of comparing DNA, RNA, or protein sequences to find similarities. It helps scientists understand relationships, functions, or evolutionary history. By lining up sequences, we can spot matches, differences, and important regions."
   ]
  },
  {
   "cell_type": "code",
   "execution_count": 1,
   "metadata": {},
   "outputs": [],
   "source": [
    "from collections import Counter\n",
    "import random\n",
    "import numpy as np"
   ]
  },
  {
   "cell_type": "markdown",
   "metadata": {},
   "source": [
    "## Bioinformatics II: Sequence Alignment \n",
    "\n",
    "References:\n",
    "Jones and Pevzner 2004, An Introduction to Bioinformatics Algorithms"
   ]
  },
  {
   "cell_type": "markdown",
   "metadata": {},
   "source": [
    "# Edit distance\n",
    "Finds how dissimilar two strings are to one another by calculating the minimum number of edits needed to make the two identical. \n",
    "\n",
    "# Similarity Searches in bioinformatics\n",
    "- DNA sequence comparison: when biologists infer a newly sequenced gene’s function by finding similarities with genes of known function. \n",
    "- DNA mutation is caused by DNA replication errors leading to substitutions, insertions, and deletions of nucleotides. \n",
    "\n",
    "- In 1984, scientists found v-sis oncogene, a cancer-causing gene. They compared it with all known genes from that time, and it matched with a normal growth and development gene. They hypothesized that cancer was caused by the normal growth gene doing its job at the wrong time. \n",
    "- Similarly, the Cystic fibrosis gene was discovered through a successful similarity search as well. Cystic fibrosis is a fatal disease which damages body organs and causes thick, lung clogging mucus. "
   ]
  },
  {
   "cell_type": "markdown",
   "metadata": {},
   "source": []
  },
  {
   "cell_type": "markdown",
   "metadata": {},
   "source": [
    "## Consensus string (dunno if this should be included)\n",
    "Gets the most common nucleobases per index and then use it in the final string"
   ]
  },
  {
   "cell_type": "code",
   "execution_count": 2,
   "metadata": {},
   "outputs": [],
   "source": [
    "def consensus_string(matrix):\n",
    "    consensus = []\n",
    "    num_columns = len(matrix[0])\n",
    "\n",
    "    for col in range(num_columns):\n",
    "        column_bases = [row[col] for row in matrix]   \n",
    "        counts = Counter(column_bases)                \n",
    "        most_common = counts.most_common(1)[0][0]     \n",
    "        consensus.append(most_common)\n",
    "\n",
    "    return ''.join(consensus)"
   ]
  },
  {
   "cell_type": "code",
   "execution_count": 3,
   "metadata": {},
   "outputs": [
    {
     "ename": "NameError",
     "evalue": "name 'generate_matrix' is not defined",
     "output_type": "error",
     "traceback": [
      "\u001b[31m---------------------------------------------------------------------------\u001b[39m",
      "\u001b[31mNameError\u001b[39m                                 Traceback (most recent call last)",
      "\u001b[36mCell\u001b[39m\u001b[36m \u001b[39m\u001b[32mIn[3]\u001b[39m\u001b[32m, line 1\u001b[39m\n\u001b[32m----> \u001b[39m\u001b[32m1\u001b[39m P = \u001b[43mgenerate_matrix\u001b[49m()\n\u001b[32m      3\u001b[39m \u001b[38;5;28;01mfor\u001b[39;00m row \u001b[38;5;129;01min\u001b[39;00m P:\n\u001b[32m      4\u001b[39m     \u001b[38;5;28mprint\u001b[39m(\u001b[33m\"\u001b[39m\u001b[33m \u001b[39m\u001b[33m\"\u001b[39m.join(row))\n",
      "\u001b[31mNameError\u001b[39m: name 'generate_matrix' is not defined"
     ]
    }
   ],
   "source": [
    "P = generate_matrix()\n",
    "\n",
    "for row in P:\n",
    "    print(\" \".join(row))\n",
    "\n",
    "consensus_string(P)"
   ]
  },
  {
   "cell_type": "markdown",
   "metadata": {},
   "source": [
    "## 1. Hamming Distance\n",
    "\n",
    "The **Hamming Distance** is the number of positions at which the corresponding symbols are different in two strings of **equal length**.  \n",
    "It is used in coding theory, genetics, and information theory.\n",
    "\n",
    "The symbols may be **letters**, **bits**, or **decimal digits**, among other possibilities.\n",
    "\n",
    "### Examples:\n",
    "- `\"Hamming\"` vs `\"Hammers\"` → **3**\n",
    "- `\"Data\"` vs `\"data\"` → **1**\n",
    "- `\"structures\"` vs `\"Structured\"` → **2**\n",
    "- `0000` vs `8888` → **4**\n",
    "- `123456` vs `120459` → **2**"
   ]
  },
  {
   "cell_type": "code",
   "execution_count": 7,
   "metadata": {},
   "outputs": [
    {
     "name": "stdout",
     "output_type": "stream",
     "text": [
      "Distance: 0\n",
      "Hamming distance: 2\n"
     ]
    }
   ],
   "source": [
    "a = ['A', 'T', 'T', 'G', 'T', 'C']\n",
    "b = ['A', 'C', 'T', 'C', 'T', 'C']\n",
    "\n",
    "distance = 0\n",
    "\n",
    "print(f'Distance: {distance}')\n",
    "\n",
    "for i in range (len(a)):\n",
    "  if a[i] != b[i]:\n",
    "    distance += 1\n",
    "\n",
    "print(f'Hamming distance: {distance}')"
   ]
  },
  {
   "cell_type": "code",
   "execution_count": 5,
   "metadata": {},
   "outputs": [
    {
     "name": "stdout",
     "output_type": "stream",
     "text": [
      "T G A T A\n",
      "G G A G C\n",
      "G T G C A\n",
      "G C G A T\n",
      "G C A T T\n",
      "C C C C C\n",
      "A G C G G\n"
     ]
    }
   ],
   "source": [
    "# Counts how many nucleobases (A,T,C,G) are different from the REFERENCE SEQUENCE in the first row \n",
    "\n",
    "#generate dna sequences of the same length\n",
    "def generate_dna_sequences_samelength():\n",
    "    bases = ['A', 'T', 'C', 'G']\n",
    "    matrix_rows = random.randint(5, 10) #number of dna sequences\n",
    "\n",
    "    sequences = []\n",
    "    length = random.randint(5,8)\n",
    "    for row in range(matrix_rows):\n",
    "        sequence = [random.choice(bases) for column in range(length)]\n",
    "        sequences.append(sequence)\n",
    "\n",
    "    return sequences\n",
    "\n",
    "X = generate_dna_sequences_samelength()\n",
    "\n",
    "for row in X:\n",
    "    print(\" \".join(row))"
   ]
  },
  {
   "cell_type": "code",
   "execution_count": 6,
   "metadata": {},
   "outputs": [
    {
     "data": {
      "text/plain": [
       "24"
      ]
     },
     "execution_count": 6,
     "metadata": {},
     "output_type": "execute_result"
    }
   ],
   "source": [
    "def Hamming_distance(matrix, reference_index=0):\n",
    "    reference = matrix[reference_index] #compare to the first row\n",
    "    distance = 0\n",
    "    for row in matrix:\n",
    "        for i in range(len(reference)):\n",
    "            if row[i] != reference[i]:\n",
    "                distance += 1\n",
    "    return distance\n",
    "\n",
    "Hamming_distance(X)"
   ]
  },
  {
   "cell_type": "markdown",
   "metadata": {},
   "source": [
    "However, it only works with sequences of identical lengths"
   ]
  },
  {
   "cell_type": "code",
   "execution_count": 4,
   "metadata": {},
   "outputs": [
    {
     "name": "stdout",
     "output_type": "stream",
     "text": [
      "['C', 'T', 'G', 'C', 'T', 'A', 'G', 'G', 'T', 'A', 'T', 'C', 'A', 'G']\n",
      "['T', 'G', 'C', 'T', 'A', 'T', 'A', 'A', 'C', 'C', 'T', 'C']\n",
      "['A', 'T', 'G', 'C', 'A', 'C', 'A', 'C', 'C', 'C', 'G', 'A']\n",
      "['C', 'A', 'A', 'G', 'T', 'G', 'T', 'A', 'T', 'G']\n",
      "['C', 'G', 'A', 'T', 'C', 'C', 'A', 'A', 'C', 'G', 'G', 'A', 'T']\n",
      "['C', 'A', 'A', 'A', 'T', 'G', 'T', 'C', 'G', 'T', 'C', 'A', 'C']\n",
      "['C', 'T', 'A', 'C', 'T', 'C', 'C', 'T', 'C', 'A', 'T', 'G', 'A']\n"
     ]
    },
    {
     "ename": "NameError",
     "evalue": "name 'Hamming_distance' is not defined",
     "output_type": "error",
     "traceback": [
      "\u001b[31m---------------------------------------------------------------------------\u001b[39m",
      "\u001b[31mNameError\u001b[39m                                 Traceback (most recent call last)",
      "\u001b[36mCell\u001b[39m\u001b[36m \u001b[39m\u001b[32mIn[4]\u001b[39m\u001b[32m, line 18\u001b[39m\n\u001b[32m     15\u001b[39m     \u001b[38;5;28mprint\u001b[39m(seq)\n\u001b[32m     17\u001b[39m X = generate_random_dna_sequences()\n\u001b[32m---> \u001b[39m\u001b[32m18\u001b[39m \u001b[43mHamming_distance\u001b[49m(X)\n",
      "\u001b[31mNameError\u001b[39m: name 'Hamming_distance' is not defined"
     ]
    }
   ],
   "source": [
    "def generate_random_dna_sequences():\n",
    "    bases = ['A', 'T', 'C', 'G']\n",
    "    num_sequences = random.randint(5, 10)\n",
    "\n",
    "    sequences = []\n",
    "    for _ in range(num_sequences):\n",
    "        length = random.randint(5, 15)\n",
    "        sequence = [random.choice(bases) for _ in range(length)]\n",
    "        sequences.append(sequence)\n",
    "\n",
    "    return sequences\n",
    "\n",
    "random_dna = generate_random_dna_sequences()\n",
    "for i, seq in enumerate(random_dna, 1):\n",
    "    print(seq)\n",
    "\n",
    "X = generate_random_dna_sequences()\n",
    "Hamming_distance(X)\n"
   ]
  },
  {
   "cell_type": "markdown",
   "metadata": {},
   "source": [
    "## 2. Levenshtein \n",
    "The levevnshtein edit distance works for strings with different lengths"
   ]
  },
  {
   "cell_type": "code",
   "execution_count": 5,
   "metadata": {},
   "outputs": [],
   "source": [
    "def levenshtein(string_one, string_two):\n",
    "    m = len(string_one)\n",
    "    n = len(string_two)\n",
    "\n",
    "    '''\n",
    "    if m == 0:\n",
    "        return n\n",
    "    if n == 0:\n",
    "        return m\n",
    "    '''\n",
    "\n",
    "    dp = [[0]*(n + 1) for _ in range(m + 1)]\n",
    "\n",
    "    for i in range(m + 1):\n",
    "        dp[i][0] = i\n",
    "    for j in range(n + 1):\n",
    "        dp[0][j] = j\n",
    "\n",
    "    for i in range(1, m + 1):\n",
    "        for j in range(1, n + 1):\n",
    "            if string_one[i - 1] == string_two[j - 1]:\n",
    "                dp[i][j] = dp[i - 1][j - 1]\n",
    "            else:\n",
    "                dp[i][j] = 1 + min([\n",
    "                                    dp[i][j - 1], \n",
    "                                    dp[i - 1][j], \n",
    "                                    dp[i - 1][j - 1]\n",
    "                                    ])\n",
    "    return dp[m][n]"
   ]
  },
  {
   "cell_type": "code",
   "execution_count": 6,
   "metadata": {},
   "outputs": [
    {
     "name": "stdout",
     "output_type": "stream",
     "text": [
      "['C', 'C', 'A', 'C', 'A', 'G', 'T', 'C', 'C', 'C']\n",
      "['G', 'A', 'G', 'C', 'G']\n",
      "['T', 'T', 'T', 'T', 'C', 'A', 'T', 'G', 'G', 'T', 'G', 'T']\n",
      "['A', 'G', 'G', 'A', 'A', 'C', 'T', 'C', 'A', 'G', 'G', 'A', 'T']\n",
      "['G', 'C', 'T', 'T', 'T', 'C', 'T', 'C']\n",
      "['A', 'C', 'C', 'T', 'G', 'T', 'A', 'G']\n",
      "\n",
      "Levenshtein Distance Matrix:\n",
      "0 7 9 10 6 6\n",
      "7 0 9 9 6 6\n",
      "9 9 0 9 8 8\n",
      "10 9 9 0 10 8\n",
      "6 6 8 10 0 6\n",
      "6 6 8 8 6 0\n"
     ]
    }
   ],
   "source": [
    "L = generate_random_dna_sequences()\n",
    "\n",
    "for i, seq in enumerate(L, 1):\n",
    "    print(seq)\n",
    "\n",
    "n = len(L)\n",
    "dist_matrix = np.zeros((n, n), dtype=int)\n",
    "\n",
    "for i in range(n):\n",
    "    for j in range(n):\n",
    "        dist_matrix[i, j] = levenshtein(L[i], L[j])\n",
    "\n",
    "print(\"\\nLevenshtein Distance Matrix:\")\n",
    "for row in dist_matrix:\n",
    "    print(' '.join(map(str, row)))\n"
   ]
  },
  {
   "cell_type": "markdown",
   "metadata": {},
   "source": [
    "## 3. Multisequence\n",
    "Description"
   ]
  },
  {
   "cell_type": "markdown",
   "metadata": {},
   "source": [
    "## 4. Local Sequence Alignment (Done)\n"
   ]
  },
  {
   "cell_type": "markdown",
   "metadata": {},
   "source": [
    "## 5. Global Sequence Alignment (Done)\n"
   ]
  },
  {
   "cell_type": "markdown",
   "metadata": {},
   "source": [
    "## 7. BLAST \n",
    "Why blast is fast & \n",
    "Why blast is incomplete "
   ]
  },
  {
   "cell_type": "markdown",
   "metadata": {},
   "source": []
  }
 ],
 "metadata": {
  "kernelspec": {
   "display_name": "base",
   "language": "python",
   "name": "python3"
  },
  "language_info": {
   "codemirror_mode": {
    "name": "ipython",
    "version": 3
   },
   "file_extension": ".py",
   "mimetype": "text/x-python",
   "name": "python",
   "nbconvert_exporter": "python",
   "pygments_lexer": "ipython3",
   "version": "3.13.2"
  }
 },
 "nbformat": 4,
 "nbformat_minor": 4
}
