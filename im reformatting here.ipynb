{
 "cells": [
  {
   "cell_type": "markdown",
   "metadata": {},
   "source": [
    "# Bioinformatics II: Sequence Alignment \n",
    "\n",
    "Reference:\n",
    "\n",
    "Jones and Pevzner 2004, An Introduction to Bioinformatics Algorithms"
   ]
  },
  {
   "cell_type": "markdown",
   "metadata": {},
   "source": [
    "### Set up"
   ]
  },
  {
   "cell_type": "code",
   "execution_count": 1,
   "metadata": {},
   "outputs": [],
   "source": [
    "import random\n",
    "import numpy as np\n",
    "import pandas as pd\n",
    "import seaborn as sns\n",
    "import matplotlib.pyplot as plt\n",
    "from collections import Counter\n",
    "from collections import defaultdict"
   ]
  },
  {
   "cell_type": "code",
   "execution_count": 2,
   "metadata": {},
   "outputs": [],
   "source": [
    "#generate dna sequences of the same length\n",
    "def generate_dna_sequences_samelength():\n",
    "    bases = ['A', 'T', 'C', 'G']\n",
    "    matrix_rows = random.randint(5, 10) #number of dna sequences\n",
    "\n",
    "    sequences = []\n",
    "    length = random.randint(5,8)\n",
    "    for row in range(matrix_rows):\n",
    "        sequence = [random.choice(bases) for column in range(length)]\n",
    "        sequences.append(sequence)\n",
    "\n",
    "    return sequences\n",
    "\n",
    "#generate dna sequences of the different lengths\n",
    "def generate_random_dna_sequences():\n",
    "    bases = ['A', 'T', 'C', 'G']\n",
    "    num_sequences = random.randint(5, 10)\n",
    "\n",
    "    sequences = []\n",
    "    for _ in range(num_sequences):\n",
    "        length = random.randint(5, 15)\n",
    "        sequence = [random.choice(bases) for _ in range(length)]\n",
    "        sequences.append(sequence)\n",
    "\n",
    "    return sequences"
   ]
  },
  {
   "cell_type": "markdown",
   "metadata": {},
   "source": [
    "# 1. Edit distances"
   ]
  },
  {
   "cell_type": "markdown",
   "metadata": {},
   "source": [
    "Edit distances count the **minimum** number of edits (substitutions, insertions, or deletions) needed to make strings identical. "
   ]
  },
  {
   "cell_type": "markdown",
   "metadata": {},
   "source": [
    "## 1A. Hamming Distance"
   ]
  },
  {
   "cell_type": "markdown",
   "metadata": {},
   "source": [
    "The **Hamming distance** is the number of positions at which the corresponding symbols are different in two strings of **equal length**.  It is used in coding theory, genetics, and information theory.\n",
    "\n",
    "The symbols may be **letters**, **bits**, or **decimal digits**, among other possibilities.\n",
    "\n",
    "### Examples:\n",
    "- `\"Hamming\"` vs `\"Hammers\"` → **3**\n",
    "- `\"Data\"` vs `\"data\"` → **1**\n",
    "- `\"structures\"` vs `\"Structured\"` → **2**\n",
    "- `0000` vs `8888` → **4**\n",
    "- `123456` vs `120459` → **2**"
   ]
  },
  {
   "cell_type": "code",
   "execution_count": 3,
   "metadata": {},
   "outputs": [
    {
     "name": "stdout",
     "output_type": "stream",
     "text": [
      "Hamming distance: 1\n"
     ]
    }
   ],
   "source": [
    "a = 'data'\n",
    "b = 'date'\n",
    "\n",
    "distance = 0\n",
    "\n",
    "for i in range (len(a)):\n",
    "  if a[i] != b[i]:\n",
    "    distance += 1\n",
    "\n",
    "print(f'Hamming distance: {distance}')"
   ]
  },
  {
   "cell_type": "markdown",
   "metadata": {},
   "source": [
    "The Hamming Distance counts how many nucleobases (A,T,C,G) are different from the reference sequence in the first row of the matrix"
   ]
  },
  {
   "cell_type": "code",
   "execution_count": 4,
   "metadata": {},
   "outputs": [],
   "source": [
    "def Hamming_distance(matrix, reference_index=0):\n",
    "    reference = matrix[reference_index]\n",
    "    print(\"Base        :\", \" \".join(reference))\n",
    "    print()  # Blank line\n",
    "\n",
    "    for index, row in enumerate(matrix):\n",
    "        if index == reference_index:\n",
    "            continue  # don't compare base to itself\n",
    "\n",
    "        # Count distance mistmatches\n",
    "        distance = 0\n",
    "        for i in range(len(reference)):\n",
    "            if row[i] != reference[i]:\n",
    "                distance += 1\n",
    "        \n",
    "        print(f\"Sequence {index:<2} :\", \" \".join(row))\n",
    "        print(f\"Hamming distance: {distance}\")\n",
    "        print()"
   ]
  },
  {
   "cell_type": "code",
   "execution_count": 5,
   "metadata": {},
   "outputs": [
    {
     "name": "stdout",
     "output_type": "stream",
     "text": [
      "Matrix Z\n",
      "A T A A A T\n",
      "C A T C G A\n",
      "G C C A A C\n",
      "G C A G T G\n",
      "G G G A T T\n",
      "A G A A G T\n",
      "T T C C A C\n",
      "\n",
      "Base        : A T A A A T\n",
      "\n",
      "Sequence 1  : C A T C G A\n",
      "Hamming distance: 6\n",
      "\n",
      "Sequence 2  : G C C A A C\n",
      "Hamming distance: 4\n",
      "\n",
      "Sequence 3  : G C A G T G\n",
      "Hamming distance: 5\n",
      "\n",
      "Sequence 4  : G G G A T T\n",
      "Hamming distance: 4\n",
      "\n",
      "Sequence 5  : A G A A G T\n",
      "Hamming distance: 2\n",
      "\n",
      "Sequence 6  : T T C C A C\n",
      "Hamming distance: 4\n",
      "\n"
     ]
    }
   ],
   "source": [
    "Z = generate_dna_sequences_samelength()\n",
    "\n",
    "print(\"Matrix Z\")\n",
    "for row in Z:\n",
    "    print(\" \".join(row))\n",
    "print()\n",
    "\n",
    "Hamming_distance(Z)"
   ]
  },
  {
   "cell_type": "markdown",
   "metadata": {},
   "source": [
    "## 1B. Levenshtein Distance"
   ]
  },
  {
   "cell_type": "markdown",
   "metadata": {},
   "source": [
    "Unlike the hamming distance, the **Levevnshtein distance** works for strings with different lengths"
   ]
  },
  {
   "cell_type": "code",
   "execution_count": 6,
   "metadata": {},
   "outputs": [],
   "source": [
    "def levenshtein_distance(s, t):\n",
    "    m, n = len(s), len(t)\n",
    "    \n",
    "    # Initialize the distance matrix\n",
    "    d = [[0] * (n + 1) for _ in range(m + 1)]\n",
    "\n",
    "    # Fill the first column and row\n",
    "    for i in range(m + 1):\n",
    "        d[i][0] = i  # Deletion\n",
    "    for j in range(n + 1):\n",
    "        d[0][j] = j  # Insertion\n",
    "\n",
    "    # Compute distances\n",
    "    for i in range(1, m + 1):\n",
    "        for j in range(1, n + 1):\n",
    "            substitution_cost = 0 if s[i - 1] == t[j - 1] else 1\n",
    "\n",
    "            d[i][j] = min(\n",
    "                d[i - 1][j] + 1,               # Deletion\n",
    "                d[i][j - 1] + 1,               # Insertion\n",
    "                d[i - 1][j - 1] + substitution_cost  # Substitution\n",
    "            )\n",
    "\n",
    "    return d[m][n]"
   ]
  },
  {
   "cell_type": "code",
   "execution_count": 7,
   "metadata": {},
   "outputs": [
    {
     "data": {
      "text/plain": [
       "2"
      ]
     },
     "execution_count": 7,
     "metadata": {},
     "output_type": "execute_result"
    }
   ],
   "source": [
    "levenshtein_distance(\"ATCGCT\",\"ATCT\")"
   ]
  },
  {
   "cell_type": "code",
   "execution_count": 8,
   "metadata": {},
   "outputs": [],
   "source": [
    "def levenshtein(string_one, string_two):\n",
    "    m = len(string_one)\n",
    "    n = len(string_two)\n",
    "\n",
    "    dp = [[0]*(n + 1) for _ in range(m + 1)]\n",
    "\n",
    "    for i in range(m + 1):\n",
    "        dp[i][0] = i\n",
    "    for j in range(n + 1):\n",
    "        dp[0][j] = j\n",
    "\n",
    "    for i in range(1, m + 1):\n",
    "        for j in range(1, n + 1):\n",
    "            if string_one[i - 1] == string_two[j - 1]:\n",
    "                dp[i][j] = dp[i - 1][j - 1]\n",
    "            else:\n",
    "                dp[i][j] = 1 + min([\n",
    "                                    dp[i][j - 1], \n",
    "                                    dp[i - 1][j], \n",
    "                                    dp[i - 1][j - 1]\n",
    "                                    ])\n",
    "    return dp[m][n]"
   ]
  },
  {
   "cell_type": "code",
   "execution_count": 9,
   "metadata": {},
   "outputs": [
    {
     "name": "stdout",
     "output_type": "stream",
     "text": [
      "A C G G C T A C G C A\n",
      "G T A A C A A G T C T T A G\n",
      "T C G T C T C\n",
      "A C C G C G A A C C G A T A C\n",
      "A G T G C T A A A T C\n",
      "T C C G A G A A T T G T T C C\n",
      "G T T C T T A C A A T G C A\n",
      "A A G C G\n",
      "G C G A A\n",
      "A C C A G T T C\n",
      "\n",
      "Levenshtein Distance Matrix:\n",
      "0 10 6 7 6 10 8 7 7 7\n",
      "10 0 8 10 9 9 9 9 10 8\n",
      "6 8 0 10 7 9 8 5 5 4\n",
      "7 10 10 0 7 6 10 11 10 8\n",
      "6 9 7 7 0 10 6 8 7 6\n",
      "10 9 9 6 10 0 9 11 11 8\n",
      "8 9 8 10 6 9 0 10 10 9\n",
      "7 9 5 11 8 11 10 0 4 5\n",
      "7 10 5 10 7 11 10 4 0 6\n",
      "7 8 4 8 6 8 9 5 6 0\n"
     ]
    }
   ],
   "source": [
    "X = generate_random_dna_sequences()\n",
    "\n",
    "for row in X:\n",
    "    print(\" \".join(row))\n",
    "\n",
    "print()\n",
    "n = len(X)\n",
    "dist_matrix = np.zeros((n, n), dtype=int)\n",
    "\n",
    "for i in range(n):\n",
    "    for j in range(n):\n",
    "        dist_matrix[i, j] = levenshtein(X[i], X[j])\n",
    "\n",
    "print(\"Levenshtein Distance Matrix:\")\n",
    "for row in dist_matrix:\n",
    "    print(' '.join(map(str, row)))"
   ]
  },
  {
   "cell_type": "markdown",
   "metadata": {},
   "source": [
    "## 1C. Another Edit Distance"
   ]
  },
  {
   "cell_type": "markdown",
   "metadata": {},
   "source": [
    "Description here"
   ]
  },
  {
   "cell_type": "code",
   "execution_count": 10,
   "metadata": {},
   "outputs": [],
   "source": [
    "#CODE! :D"
   ]
  },
  {
   "cell_type": "markdown",
   "metadata": {},
   "source": [
    "# Alignment Algorithms"
   ]
  },
  {
   "cell_type": "markdown",
   "metadata": {},
   "source": [
    "Alignment algorithms such as the Smith-Waterman and Needleman-Wunsch algorithms use scoring to match (strings). It assigns positive scores for matches and deductions (penalties or negative values) for mismatches. It maximizes the total alignment score."
   ]
  },
  {
   "cell_type": "markdown",
   "metadata": {},
   "source": [
    "# 2. Local Alignment"
   ]
  },
  {
   "cell_type": "markdown",
   "metadata": {},
   "source": [
    "Consider these 2 strings:\n",
    "\n",
    "String 1 : `\"T A T A T A T A\"`\n",
    "\n",
    "String 2 : `\"A T A T A T A T\"`\n",
    "\n",
    "Using the Hamming distance, these strings would have a distance of 8-- suggesting that they are completely different, despite the pattern similarity.\n",
    "\n",
    "The **Smith-Waterman algorithm** used for **local alignment** detects that String 1 (indices 2-8) aligns with String 2 (indices 1-7). Under local alignment, the strings would have a 7-character match score.\n"
   ]
  },
  {
   "cell_type": "markdown",
   "metadata": {},
   "source": [
    "**Scoring System**\n",
    "- Match = **+2**\n",
    "- Mismatch = **-1**\n",
    "- Gap = **-2**\n",
    "- If score < 0, reset it to 0 (to find local regions)\n",
    "\n",
    "In code: we would write this as:"
   ]
  },
  {
   "cell_type": "code",
   "execution_count": null,
   "metadata": {},
   "outputs": [],
   "source": [
    "match = 2\n",
    "mismatch = -1\n",
    "gap = -2\n",
    "\n",
    "def score(a, b):\n",
    "    return match if a == b else mismatch"
   ]
  },
  {
   "cell_type": "markdown",
   "metadata": {},
   "source": [
    "## 2A. Smith–Waterman Algorithm"
   ]
  },
  {
   "cell_type": "markdown",
   "metadata": {},
   "source": [
    "Local alignment is a method used to compare two sequences by finding the best matching region between them. It focuses only on the part of each sequence that is most similar, instead of trying to align the entire sequences. This is helpful when the sequences are only partially related or when one sequence contains just a small part that is similar to the other.\n",
    "\n",
    "The algorithm used for local alignment is called the **Smith-Waterman algorithm**. It works by building a scoring matrix that allows negative scores to be ignored. In the matrix, the algorithm fills in values based on matches, mismatches, and gaps. If a value becomes negative, it is replaced with zero. This allows the alignment to stop at the edges of the best matching region, without being forced to include unrelated parts.\n",
    "\n",
    "When the matrix is complete, the algorithm starts a process called **traceback** from the highest score in the matrix. It follows the path backward until it reaches a cell with a score of zero. This traceback reveals the aligned parts of the two sequences that are most similar.\n",
    "\n",
    "Local alignment is often used in bioinformatics to find regions of similarity between DNA, RNA, or protein sequences, especially when the sequences are not expected to be similar along their entire length.\n"
   ]
  },
  {
   "cell_type": "code",
   "execution_count": null,
   "metadata": {},
   "outputs": [],
   "source": [
    "def smith_waterman(seq1, seq2):\n",
    "    # Get the lengths of the two sequences\n",
    "    m, n = len(seq1), len(seq2)\n",
    "\n",
    "    # Create a (m+1) x (n+1) matrix filled with zeros for dynamic programming\n",
    "    dp = np.zeros((m+1, n+1), dtype=int)\n",
    "\n",
    "    # Initialize the maximum score found so far\n",
    "    max_score = 0\n",
    "\n",
    "    # Initialize the position (i, j) of the maximum score\n",
    "    max_pos = (0, 0)\n",
    "\n",
    "    # Loop through each cell in the matrix (excluding first row and column)\n",
    "    for i in range(1, m+1):\n",
    "        for j in range(1, n+1):\n",
    "\n",
    "            # Calculate match/mismatch score from the diagonal\n",
    "            match_score = dp[i-1][j-1] + score(seq1[i-1], seq2[j-1])\n",
    "\n",
    "            # Calculate score for deleting a character from seq1 (go up)\n",
    "            delete = dp[i-1][j] + gap\n",
    "\n",
    "            # Calculate score for inserting a gap into seq1 (go left)\n",
    "            insert = dp[i][j-1] + gap\n",
    "\n",
    "            # Choose the best score among 0 (reset), match, delete, or insert\n",
    "            dp[i][j] = max(0, match_score, delete, insert)\n",
    "\n",
    "            # Update max_score and max_pos if current cell has the highest score so far\n",
    "            if dp[i][j] > max_score:\n",
    "                max_score = dp[i][j]\n",
    "                max_pos = (i, j)\n",
    "\n",
    "    # Return the completed matrix and the position of the highest score\n",
    "    return dp, max_pos\n"
   ]
  },
  {
   "cell_type": "code",
   "execution_count": 13,
   "metadata": {},
   "outputs": [],
   "source": [
    "def show_matrix_with_headers(dp, seq1, seq2):\n",
    "    seq1 = '-' + seq1\n",
    "    seq2 = '-' + seq2\n",
    "\n",
    "    # Create DataFrame with proper headers\n",
    "    df = pd.DataFrame(dp, index=[c for c in seq1], columns=[c for c in seq2])\n",
    "\n",
    "    # Plot heatmap\n",
    "    plt.figure(figsize=(10, 6))\n",
    "    ax = sns.heatmap(df, annot=True, fmt='d', cmap=\"YlOrRd\", cbar=False)\n",
    "\n",
    "    # Move x-tick labels to top\n",
    "    ax.xaxis.tick_top()\n",
    "    ax.xaxis.set_label_position('top')  # Also move the label\n",
    "    ax.set_xlabel(\"Sequence 2 (Top)\")\n",
    "    ax.set_ylabel(\"Sequence 1 (Side)\")\n",
    "\n",
    "    # Adjust ticks\n",
    "    plt.xticks(rotation=0)\n",
    "    plt.yticks(rotation=0)\n",
    "\n",
    "    # Adjust title position above all\n",
    "    plt.title(\"Local Alignment Score Matrix\", pad=40)\n",
    "\n",
    "    plt.tight_layout()\n",
    "    plt.show()\n"
   ]
  },
  {
   "cell_type": "code",
   "execution_count": null,
   "metadata": {},
   "outputs": [
    {
     "data": {
      "image/png": "[encoded data removed]",
      "text/plain": [
       "<Figure size 1000x600 with 1 Axes>"
      ]
     },
     "metadata": {},
     "output_type": "display_data"
    }
   ],
   "source": [
    "# Just calling functions\n",
    "\n",
    "seq1 = \"ATGCGTACCTAGTGCATGCA\"\n",
    "seq2 = \"CGTACGTACGTACGTAGC\"\n",
    "\n",
    "dp_matrix, max_pos = smith_waterman(seq1, seq2)\n",
    "show_matrix_with_headers(dp_matrix, seq1, seq2)"
   ]
  },
  {
   "cell_type": "markdown",
   "metadata": {},
   "source": [
    "### Traceback\n",
    "\n",
    "**Traceback** is the process of recovering the actual alignment after the scoring matrix has been filled in.\n",
    "\n",
    "In **local alignment**, traceback starts from the cell in the matrix that has the **highest score**. This cell represents the end of the best matching region between the two sequences. From there, we move **backwards through the matrix**, choosing the direction that was used to calculate the current cell's score.\n",
    "\n",
    "At each step, we look at the neighboring cells:\n",
    "\n",
    "* **Diagonally** (if the characters matched or mismatched),\n",
    "* **Up** (if there was a deletion), or\n",
    "* **Left** (if there was an insertion).\n",
    "\n",
    "We stop the traceback when we reach a cell with a score of **zero**. That is the start of the best matching region. By following this path, we build the aligned sequences.\n",
    "\n",
    "The traceback gives us the **actual characters and gaps** that formed the highest-scoring local match. This is how we move from a score in the matrix to a meaningful alignment of letters.\n"
   ]
  },
  {
   "cell_type": "code",
   "execution_count": null,
   "metadata": {},
   "outputs": [],
   "source": [
    "def traceback_local(dp, seq1, seq2, start):\n",
    "    # Initialize the first aligned string as an empty string\n",
    "    aligned1 = \"\"\n",
    "\n",
    "    # Initialize the second aligned string as an empty string\n",
    "    aligned2 = \"\"\n",
    "\n",
    "    # Set the starting position for traceback (the max scoring cell)\n",
    "    i, j = start\n",
    "\n",
    "    # Continue traceback until a cell with score 0 is reached\n",
    "    while dp[i][j] != 0:\n",
    "\n",
    "        # Get the current score at position (i, j)\n",
    "        current = dp[i][j]\n",
    "\n",
    "        # Check if this cell came from a diagonal move (match or mismatch)\n",
    "        if i > 0 and j > 0 and current == dp[i-1][j-1] + score(seq1[i-1], seq2[j-1]):\n",
    "\n",
    "            # Add the matching/mismatching characters to the alignment\n",
    "            aligned1 = seq1[i-1] + aligned1\n",
    "            aligned2 = seq2[j-1] + aligned2\n",
    "\n",
    "            # Move diagonally up-left\n",
    "            i -= 1\n",
    "            j -= 1\n",
    "\n",
    "        # Check if this cell came from a vertical move (gap in seq2)\n",
    "        elif i > 0 and current == dp[i-1][j] + gap:\n",
    "\n",
    "            # Add a character from seq1 and a gap in seq2\n",
    "            aligned1 = seq1[i-1] + aligned1\n",
    "            aligned2 = '-' + aligned2\n",
    "\n",
    "            # Move up\n",
    "            i -= 1\n",
    "\n",
    "        # Check if this cell came from a horizontal move (gap in seq1)\n",
    "        elif j > 0 and current == dp[i][j-1] + gap:\n",
    "\n",
    "            # Add a gap in seq1 and a character from seq2\n",
    "            aligned1 = '-' + aligned1\n",
    "            aligned2 = seq2[j-1] + aligned2\n",
    "\n",
    "            # Move left\n",
    "            j -= 1\n",
    "\n",
    "        # If none of the above conditions match, break out of the loop\n",
    "        else:\n",
    "            break\n",
    "\n",
    "    # Return the final aligned sequences\n",
    "    return aligned1, aligned2\n"
   ]
  },
  {
   "cell_type": "code",
   "execution_count": null,
   "metadata": {},
   "outputs": [
    {
     "name": "stdout",
     "output_type": "stream",
     "text": [
      "Best Local Alignment:\n",
      "CGTACCTA-GTGCAT-GC\n",
      "CGTACGTACGTACGTAGC\n"
     ]
    }
   ],
   "source": [
    "# Just calling\n",
    "\n",
    "aligned1, aligned2 = traceback_local(dp_matrix, seq1, seq2, max_pos)\n",
    "print(\"Best Local Alignment:\")\n",
    "print(aligned1)\n",
    "print(aligned2)\n"
   ]
  },
  {
   "cell_type": "markdown",
   "metadata": {},
   "source": [
    "# 3. Global Alignment"
   ]
  },
  {
   "cell_type": "markdown",
   "metadata": {},
   "source": [
    "## Needleman Wunsch Algorithm"
   ]
  },
  {
   "cell_type": "markdown",
   "metadata": {},
   "source": [
    "Global alignment traceback is the process of reconstructing the full alignment between two sequences after the dynamic programming (DP) matrix has been filled. It is used in the Needleman-Wunsch algorithm and ensures that the alignment includes every character from both sequences, even if gaps are needed."
   ]
  },
  {
   "cell_type": "code",
   "execution_count": 17,
   "metadata": {},
   "outputs": [],
   "source": [
    "# Jupyter Notebook Cell 5: Needleman-Wunsch Algorithm\n",
    "def needleman_wunsch(seq1, seq2):\n",
    "    m, n = len(seq1), len(seq2)\n",
    "    dp = np.zeros((m+1, n+1), dtype=int)\n",
    "\n",
    "    # Initialize first row and column\n",
    "    for i in range(1, m+1):\n",
    "        dp[i][0] = dp[i-1][0] + gap\n",
    "    for j in range(1, n+1):\n",
    "        dp[0][j] = dp[0][j-1] + gap\n",
    "\n",
    "    # Fill the matrix\n",
    "    for i in range(1, m+1):\n",
    "        for j in range(1, n+1):\n",
    "            match_score = dp[i-1][j-1] + score(seq1[i-1], seq2[j-1])\n",
    "            delete = dp[i-1][j] + gap\n",
    "            insert = dp[i][j-1] + gap\n",
    "            dp[i][j] = max(match_score, delete, insert)\n",
    "\n",
    "    return dp"
   ]
  },
  {
   "cell_type": "code",
   "execution_count": 18,
   "metadata": {},
   "outputs": [],
   "source": [
    "# Jupyter Notebook Cell 6: Step-by-step visualization\n",
    "\n",
    "def show_matrix(dp, seq1, seq2):\n",
    "    seq1 = '-' + seq1\n",
    "    seq2 = '-' + seq2\n",
    "\n",
    "    # Create DataFrame with proper headers\n",
    "    df = pd.DataFrame(dp, index=[c for c in seq1], columns=[c for c in seq2])\n",
    "\n",
    "    # Plot heatmap\n",
    "    plt.figure(figsize=(10, 6))\n",
    "    ax = sns.heatmap(df, annot=True, fmt='d', cmap=\"YlGnBu\", cbar=False)\n",
    "\n",
    "    # Move x-tick labels to top\n",
    "    ax.xaxis.tick_top()\n",
    "    ax.xaxis.set_label_position('top')  # Also move the label\n",
    "    ax.set_xlabel(\"Sequence 2 (Top)\")\n",
    "    ax.set_ylabel(\"Sequence 1 (Side)\")\n",
    "\n",
    "    # Adjust ticks\n",
    "    plt.xticks(rotation=0)\n",
    "    plt.yticks(rotation=0)\n",
    "\n",
    "    # Adjust title position above all\n",
    "    plt.title(\"Local Alignment Score Matrix\", pad=40)\n",
    "\n",
    "    plt.tight_layout()\n",
    "    plt.show()\n"
   ]
  },
  {
   "cell_type": "code",
   "execution_count": 19,
   "metadata": {},
   "outputs": [
    {
     "data": {
      "image/png": "[encoded data removed]",
      "text/plain": [
       "<Figure size 1000x600 with 1 Axes>"
      ]
     },
     "metadata": {},
     "output_type": "display_data"
    }
   ],
   "source": [
    "seq1 = \"ATGCGTACCTAGTGCATGCA\"\n",
    "seq2 = \"CGTACGTACGTACGTAGC\"\n",
    "\n",
    "dp_matrix = needleman_wunsch(seq1, seq2)\n",
    "show_matrix(dp_matrix, seq1, seq2)"
   ]
  },
  {
   "cell_type": "markdown",
   "metadata": {},
   "source": [
    "### Traceback\n",
    "\n",
    "(Refer to Local Traceback but with some modified changes.)\n",
    "\n",
    "\n",
    "The traceback process in global alignment differs from local alignment in a few key ways. First, it always starts at the **bottom-right corner** of the scoring matrix, since global alignment is meant to align the **entire sequences**. In contrast, local alignment starts at the **cell with the highest score**, because it focuses only on the best matching subsequence. Second, the global traceback continues until it reaches the **top-left corner** of the matrix, ensuring that all characters from both sequences are included in the final alignment. In local alignment, traceback stops as soon as it reaches a cell with a score of **zero**, because any score below that would lower the quality of the local match. Lastly, global alignment **never breaks early**—it must explain the full sequences, including gaps—while local alignment may **terminate mid-matrix**, often ignoring unrelated or low-scoring parts at the ends.\n"
   ]
  },
  {
   "cell_type": "code",
   "execution_count": null,
   "metadata": {},
   "outputs": [],
   "source": [
    "# Define the function to perform global alignment traceback\n",
    "def traceback_global(dp, seq1, seq2):\n",
    "\n",
    "    # Initialize the aligned version of sequence 1 as an empty string\n",
    "    aligned1 = \"\"\n",
    "\n",
    "    # Initialize the aligned version of sequence 2 as an empty string\n",
    "    aligned2 = \"\"\n",
    "\n",
    "    # Set the starting point at the bottom-right corner of the matrix\n",
    "    i, j = len(seq1), len(seq2)\n",
    "\n",
    "    # Continue traceback until reaching the top-left corner (i == 0 and j == 0)\n",
    "    while i > 0 or j > 0:\n",
    "\n",
    "        # Get the current score at position (i, j)\n",
    "        current = dp[i][j]\n",
    "\n",
    "        # Check if the current cell came from a diagonal move (match or mismatch)\n",
    "        if i > 0 and j > 0 and current == dp[i-1][j-1] + score(seq1[i-1], seq2[j-1]):\n",
    "\n",
    "            # Add the matching or mismatching characters to the aligned sequences\n",
    "            aligned1 = seq1[i-1] + aligned1\n",
    "            aligned2 = seq2[j-1] + aligned2\n",
    "\n",
    "            # Move diagonally up-left in the matrix\n",
    "            i -= 1\n",
    "            j -= 1\n",
    "\n",
    "        # Check if the current cell came from an upward move (gap in seq2)\n",
    "        elif i > 0 and current == dp[i-1][j] + gap:\n",
    "\n",
    "            # Add a character from seq1 and a gap in seq2\n",
    "            aligned1 = seq1[i-1] + aligned1\n",
    "            aligned2 = \"-\" + aligned2\n",
    "\n",
    "            # Move up in the matrix\n",
    "            i -= 1\n",
    "\n",
    "        # Otherwise, assume the cell came from a leftward move (gap in seq1)\n",
    "        else:\n",
    "\n",
    "            # Add a gap in seq1 and a character from seq2\n",
    "            aligned1 = \"-\" + aligned1\n",
    "            aligned2 = seq2[j-1] + aligned2\n",
    "\n",
    "            # Move left in the matrix\n",
    "            j -= 1\n",
    "\n",
    "    # Return the fully aligned sequences\n",
    "    return aligned1, aligned2\n"
   ]
  },
  {
   "cell_type": "code",
   "execution_count": 21,
   "metadata": {},
   "outputs": [
    {
     "name": "stdout",
     "output_type": "stream",
     "text": [
      "Final Alignment:\n",
      "-ATGCGTACCTAGTGCATGCA\n",
      "CGTACGTACGTA-CGTA-GC-\n"
     ]
    }
   ],
   "source": [
    "# Jupyter Notebook Cell 9: Show Final Result\n",
    "aligned1, aligned2 = traceback_global(dp_matrix, seq1, seq2)\n",
    "\n",
    "print(\"Final Alignment:\")\n",
    "print(aligned1)\n",
    "print(aligned2)"
   ]
  },
  {
   "cell_type": "markdown",
   "metadata": {},
   "source": [
    "#  3B Bioinformatics: Sequence Alignment\n",
    "Understanding genetic information is at the heart of modern biology, and sequence alignment is one of the most fundamental tools in this process. Sequence alignment refers to the task of arranging DNA, RNA, or protein sequences to identify regions of similarity. These similarities can indicate shared ancestry, functional relationships, or evolutionary patterns.\n",
    "\n",
    "Unlike simple data comparison, sequence alignment must account for mutations, insertions, deletions, and gaps that naturally occur over time. This makes the task computationally complex and biologically significant. Performing accurate alignments requires a combination of algorithmic strategies and domain-specific knowledge in molecular biology.\n",
    "\n",
    "This notebook explores how algorithms like Needleman-Wunsch, Smith-Waterman, and multiple sequence alignment (MSA) methods are used to detect conserved regions, infer phylogenetic relationships, and support gene annotation. These algorithms form the backbone of many tools used in genomic research and medical diagnostics.\n",
    "\n",
    "By studying sequence alignment, we not only improve our ability to interpret genetic data, but we also gain insight into how algorithms can be designed to model the uncertainty and variation found in living systems.\n"
   ]
  },
  {
   "cell_type": "markdown",
   "metadata": {},
   "source": [
    "# Problem Overview\n",
    "Sequence alignment is the task of comparing two or more biological sequences and determining the optimal way to align them for maximum similarity. In practical terms, this involves identifying the best match between nucleotides or amino acids, while accounting for insertions, deletions, and substitutions.\n",
    "\n",
    "This problem becomes more challenging when aligning long sequences or multiple sequences at once, as the number of possible alignments grows exponentially. Real biological data often includes noise, mutations, or incomplete regions, making exact matching impossible and intelligent heuristics essential."
   ]
  },
  {
   "cell_type": "markdown",
   "metadata": {},
   "source": [
    "# Objectives and Scope\n",
    "The primary objective of this paper is to explore the theoretical and algorithmic foundations of sequence alignment in bioinformatics. It aims to:\n",
    "\n",
    "1.   Explain the difference between global and local alignment techniques.\n",
    "2.   Describe the workings of key algorithms such as Needleman-Wunsch, Smith-Waterman, and BLAST.\n",
    "3.   Demonstrate how alignment is used in real-world applications such as genome comparison, mutation detection, and evolutionary biology.\n",
    "\n",
    "The scope of this paper is limited to alignment techniques for nucleotide and protein sequences, and focuses on deterministic and heuristic methods. It does not cover structural alignment or non-sequence-based omics data.\n",
    "\n",
    "\n"
   ]
  },
  {
   "cell_type": "markdown",
   "metadata": {},
   "source": [
    "# Multi-Sequence Alignment (MSA)\n",
    "MSA is the process of aligning three or more sequences (DNA, RNA, or proteins) so that similar characters are in the same column. This helps identify conserved regions, which may be important biologically (e.g., active sites in enzymes).\n",
    "\n",
    "In simple terms, we insert gaps (-) into sequences so that as many characters as possible match when stacked vertically.\n",
    "\n",
    "Example Imput Sequences:"
   ]
  },
  {
   "cell_type": "code",
   "execution_count": null,
   "metadata": {},
   "outputs": [],
   "source": [
    "seq1 = \"ATGCT\"\n",
    "seq2 = \"A-G-T\"\n",
    "seq3 = \"ATGTT\""
   ]
  },
  {
   "cell_type": "markdown",
   "metadata": {},
   "source": [
    "Each column shows how the characters line up, and differences can be counted."
   ]
  },
  {
   "cell_type": "code",
   "execution_count": null,
   "metadata": {},
   "outputs": [],
   "source": [
    "# Demo Code\n",
    "sequences = [\n",
    "    ['A', 'T', 'G', 'C', 'T'],\n",
    "    ['A', '-', 'G', '-', 'T'],\n",
    "    ['A', 'T', 'G', 'T', 'T']\n",
    "]\n",
    "\n",
    "num_columns = len(sequences[0])\n",
    "num_sequences = len(sequences)\n",
    "mismatch_count = 0\n",
    "\n",
    "print(\"Aligned Sequences:\")\n",
    "for seq in sequences:\n",
    "    print(\" \".join(seq))\n",
    "\n",
    "# Go column by column\n",
    "for col in range(num_columns):\n",
    "    column = [sequences[row][col] for row in range(num_sequences)]\n",
    "    most_common = max(set(column), key=column.count)\n",
    "\n",
    "    # Count mismatches in the column\n",
    "    mismatches = sum(1 for base in column if base != most_common)\n",
    "    mismatch_count += mismatches\n",
    "\n",
    "print(f\"\\nTotal column mismatches: {mismatch_count}\")"
   ]
  },
  {
   "cell_type": "code",
   "execution_count": null,
   "metadata": {},
   "outputs": [],
   "source": [
    "# General Code\n",
    "import random  # Import random module for generating random sequences\n",
    "from collections import Counter  # Import Counter for counting occurrences of bases\n",
    "\n",
    "def generate_random_sequence(length, gap_probability=0.15):\n",
    "    \"\"\"\n",
    "    Generate a random DNA sequence with possible gaps.\n",
    "\n",
    "    Args:\n",
    "        length: Length of the sequence\n",
    "        gap_probability: Probability of inserting a gap (-)\n",
    "\n",
    "    Returns:\n",
    "        List representing the sequence\n",
    "    \"\"\"\n",
    "    bases = ['A', 'T', 'G', 'C']  # Define the four DNA bases\n",
    "    sequence = []  # Initialize empty list to store the sequence\n",
    "\n",
    "    # Loop through each position in the sequence\n",
    "    for _ in range(length):\n",
    "        # Generate random number between 0 and 1\n",
    "        if random.random() < gap_probability:\n",
    "            sequence.append('-')  # Add gap if random number is below threshold\n",
    "        else:\n",
    "            sequence.append(random.choice(bases))  # Add random DNA base\n",
    "\n",
    "    return sequence  # Return the generated sequence as a list\n",
    "\n",
    "def count_mismatches(sequences):\n",
    "    \"\"\"\n",
    "    Count mismatches in aligned sequences.\n",
    "\n",
    "    Args:\n",
    "        sequences: List of sequences (each sequence is a list of bases)\n",
    "\n",
    "    Returns:\n",
    "        Dictionary with mismatch analysis\n",
    "    \"\"\"\n",
    "    # Check if sequences list is empty\n",
    "    if not sequences:\n",
    "        return {\"error\": \"No sequences provided\"}  # Return error if no sequences\n",
    "\n",
    "    num_columns = len(sequences[0])  # Get length of first sequence (all should be same length)\n",
    "    num_sequences = len(sequences)  # Count total number of sequences\n",
    "    total_mismatches = 0  # Initialize counter for total mismatches across all columns\n",
    "\n",
    "    # Display header for sequence alignment\n",
    "    print(\"Aligned Sequences:\")\n",
    "    # Loop through each sequence with index\n",
    "    for i, seq in enumerate(sequences):\n",
    "        # Print sequence number and bases separated by spaces\n",
    "        print(f\"Seq {i+1}: {' '.join(seq)}\")\n",
    "\n",
    "    # Display header for mismatch analysis table\n",
    "    print(f\"\\nMismatch Analysis:\")\n",
    "    print(\"Column | Bases | Most Common | Mismatches\")\n",
    "    print(\"-\" * 45)  # Print separator line\n",
    "\n",
    "    # Analyze each column position across all sequences\n",
    "    for col in range(num_columns):\n",
    "        # Extract all bases from current column across all sequences\n",
    "        column = [sequences[row][col] for row in range(num_sequences)]\n",
    "\n",
    "        # Count occurrences of each base in the column using Counter\n",
    "        base_counts = Counter(column)\n",
    "        # Get the most common base and its count\n",
    "        most_common_base = base_counts.most_common(1)[0][0]  # First element of most common tuple\n",
    "        most_common_count = base_counts.most_common(1)[0][1]  # Second element is the count\n",
    "\n",
    "        # Calculate mismatches: total sequences minus most common count\n",
    "        mismatches = num_sequences - most_common_count\n",
    "        total_mismatches += mismatches  # Add to running total\n",
    "\n",
    "        # Display column analysis results\n",
    "        bases_str = ''.join(column)  # Convert column list to string for display\n",
    "        # Print formatted row with column number, bases, most common base, and mismatch count\n",
    "        print(f\"  {col+1:2d}   | {bases_str:5s} | {most_common_base:11s} | {mismatches:9d}\")\n",
    "\n",
    "    # Display summary statistics\n",
    "    print(f\"\\nMismatch Summary:\")\n",
    "    print(f\"Total sequences: {num_sequences}\")\n",
    "    print(f\"Sequence length: {num_columns}\")\n",
    "    print(f\"Total mismatches: {total_mismatches}\")\n",
    "    print(f\"Average mismatches per column: {total_mismatches/num_columns:.2f}\")\n",
    "\n",
    "    # Calculate mismatch rate as percentage\n",
    "    total_positions = num_sequences * num_columns  # Total possible positions\n",
    "    mismatch_rate = (total_mismatches / total_positions) * 100  # Convert to percentage\n",
    "    print(f\"Overall mismatch rate: {mismatch_rate:.1f}%\")\n",
    "\n",
    "    # Return dictionary with analysis results\n",
    "    return {\n",
    "        'total_mismatches': total_mismatches,\n",
    "        'num_sequences': num_sequences,\n",
    "        'sequence_length': num_columns,\n",
    "        'mismatch_rate': mismatch_rate\n",
    "    }\n",
    "\n",
    "def main():\n",
    "    # Set random seed for reproducibility - same seed gives same random sequences\n",
    "    random.seed(42)\n",
    "\n",
    "    # Parameters for sequence generation\n",
    "    num_sequences = 4  # Number of sequences to generate\n",
    "    sequence_length = 6  # Length of each sequence\n",
    "    gap_probability = 0.2  # 20% chance of gap at each position\n",
    "\n",
    "    # Display program header and parameters\n",
    "    print(\"=== DNA Sequence Mismatch Counter ===\\n\")\n",
    "    print(f\"Generating {num_sequences} random sequences of length {sequence_length}\")\n",
    "    print(f\"Gap probability: {gap_probability:.1%}\\n\")  # Format as percentage\n",
    "\n",
    "    # Generate random sequences\n",
    "    sequences = []  # Initialize empty list to store sequences\n",
    "    # Loop to generate specified number of sequences\n",
    "    for i in range(num_sequences):\n",
    "        seq = generate_random_sequence(sequence_length, gap_probability)  # Generate one sequence\n",
    "        sequences.append(seq)  # Add sequence to list\n",
    "\n",
    "    # Count mismatches in the generated sequences\n",
    "    results = count_mismatches(sequences)\n",
    "\n",
    "    # Run another example with different parameters\n",
    "    print(\"\\n\" + \"=\"*50)  # Print separator line\n",
    "    print(\"Example 2: More sequences, less gaps\")\n",
    "    print(\"=\"*50)\n",
    "\n",
    "    # Generate second set of sequences with different parameters\n",
    "    sequences2 = []  # Initialize new list for second example\n",
    "    # Generate 6 sequences of length 8 with 10% gap probability\n",
    "    for i in range(6):\n",
    "        seq = generate_random_sequence(8, gap_probability=0.1)  # Lower gap probability\n",
    "        sequences2.append(seq)  # Add to second sequence list\n",
    "\n",
    "    # Analyze second set of sequences\n",
    "    count_mismatches(sequences2)\n",
    "\n",
    "if __name__ == \"__main__\":\n",
    "    main()  # Run main function only if script is executed directly"
   ]
  },
  {
   "cell_type": "markdown",
   "metadata": {},
   "source": [
    "From there, one can build a consensus sequence by taking the most common character at each column from a multiple sequence alignment (MSA). It’s often used to summarize conserved regions across DNA, RNA, or protein sequences.\n",
    "\n",
    "For example, from the earlier alignment:\n",
    "\n",
    "The consensus sequence would be:\n",
    "A T G C T → because:\n",
    "\n",
    "Most frequent in col 1: A\n",
    "\n",
    "Most frequent in col 2: T\n",
    "\n",
    "Most frequent in col 3: G\n",
    "\n",
    "Most frequent in col 4: C (C vs T vs -)\n",
    "\n",
    "Most frequent in col 5: T"
   ]
  },
  {
   "cell_type": "code",
   "execution_count": null,
   "metadata": {},
   "outputs": [],
   "source": [
    "# Demo Code (Same input as earlier example)\n",
    "msa = [\n",
    "    ['A', 'T', 'G', 'C', 'T'],\n",
    "    ['A', '-', 'G', '-', 'T'],\n",
    "    ['A', 'T', 'G', 'T', 'T']\n",
    "]\n",
    "\n",
    "# Priority: Higher number = higher preference in a tie\n",
    "priority = {'A': 5, 'T': 4, 'G': 3, 'C': 2, '-': 1}\n",
    "\n",
    "consensus = \"\"\n",
    "\n",
    "for col in range(len(msa[0])):\n",
    "    # Get the column (i.e., characters at this position across all sequences)\n",
    "    column = [msa[row][col] for row in range(len(msa))]\n",
    "\n",
    "    # Find the base with the highest frequency; break ties by priority\n",
    "    most_common = max(\n",
    "        set(column),\n",
    "        key=lambda base: (column.count(base), priority.get(base, 0))\n",
    "    )\n",
    "\n",
    "    # Add to consensus string\n",
    "    consensus += most_common\n",
    "\n",
    "print(\"Consensus sequence:\", consensus)"
   ]
  },
  {
   "cell_type": "code",
   "execution_count": null,
   "metadata": {},
   "outputs": [],
   "source": [
    "# General Code\n",
    "import random  # Import random module for generating random sequences\n",
    "from collections import Counter  # Import Counter for counting base occurrences\n",
    "\n",
    "def generate_random_sequence(length, gap_probability=0.15):\n",
    "    \"\"\"\n",
    "    Generate a random DNA sequence with possible gaps.\n",
    "\n",
    "    Args:\n",
    "        length: Length of the sequence\n",
    "        gap_probability: Probability of inserting a gap (-)\n",
    "\n",
    "    Returns:\n",
    "        List representing the sequence\n",
    "    \"\"\"\n",
    "    bases = ['A', 'T', 'G', 'C']  # Define the four DNA bases\n",
    "    sequence = []  # Initialize empty list to store the sequence\n",
    "\n",
    "    # Loop through each position in the sequence\n",
    "    for _ in range(length):\n",
    "        # Generate random number between 0 and 1\n",
    "        if random.random() < gap_probability:\n",
    "            sequence.append('-')  # Add gap if random number is below threshold\n",
    "        else:\n",
    "            sequence.append(random.choice(bases))  # Add random DNA base\n",
    "\n",
    "    return sequence  # Return the generated sequence as a list\n",
    "\n",
    "def generate_consensus_sequence(sequences, threshold=0.5, include_gaps=True):\n",
    "    \"\"\"\n",
    "    Generate a consensus sequence from aligned sequences.\n",
    "\n",
    "    Args:\n",
    "        sequences: List of sequences (each sequence is a list of bases)\n",
    "        threshold: Minimum fraction needed for consensus (0.5 = majority)\n",
    "        include_gaps: Whether to consider gaps in consensus\n",
    "\n",
    "    Returns:\n",
    "        Dictionary with consensus sequence and analysis\n",
    "    \"\"\"\n",
    "    # Check if sequences list is empty\n",
    "    if not sequences:\n",
    "        return {\"error\": \"No sequences provided\"}  # Return error if no sequences\n",
    "\n",
    "    num_columns = len(sequences[0])  # Get length of first sequence (all should be same length)\n",
    "    num_sequences = len(sequences)  # Count total number of sequences\n",
    "    consensus = []  # Initialize list to store consensus sequence\n",
    "    consensus_strength = []  # Initialize list to store strength of consensus at each position\n",
    "\n",
    "    # Display input sequences\n",
    "    print(\"Input Sequences:\")\n",
    "    # Loop through each sequence with index\n",
    "    for i, seq in enumerate(sequences):\n",
    "        # Print sequence number and bases separated by spaces\n",
    "        print(f\"Seq {i+1}: {' '.join(seq)}\")\n",
    "\n",
    "    # Display header for consensus analysis table\n",
    "    print(f\"\\nConsensus Analysis (threshold: {threshold:.1%}):\")\n",
    "    print(\"Column | Bases | Base Counts | Consensus | Strength\")\n",
    "    print(\"-\" * 60)  # Print separator line\n",
    "\n",
    "    # Analyze each column position across all sequences\n",
    "    for col in range(num_columns):\n",
    "        # Extract all bases from current column across all sequences\n",
    "        column = [sequences[row][col] for row in range(num_sequences)]\n",
    "\n",
    "        # Count occurrences of each base based on include_gaps parameter\n",
    "        if include_gaps:\n",
    "            base_counts = Counter(column)  # Count all bases including gaps\n",
    "        else:\n",
    "            # Exclude gaps from counting\n",
    "            non_gap_bases = [base for base in column if base != '-']  # Filter out gaps\n",
    "            base_counts = Counter(non_gap_bases)  # Count only non-gap bases\n",
    "            num_sequences_for_consensus = len(non_gap_bases)  # Update sequence count\n",
    "\n",
    "        # Find the most common base\n",
    "        if base_counts:  # If there are bases to count\n",
    "            # Get most common base and its count\n",
    "            most_common_base, count = base_counts.most_common(1)[0]\n",
    "\n",
    "            # Calculate consensus strength (fraction of sequences with most common base)\n",
    "            if include_gaps:\n",
    "                strength = count / num_sequences  # Use total sequences\n",
    "            else:\n",
    "                # Use only sequences with non-gap bases\n",
    "                strength = count / num_sequences_for_consensus if non_gap_bases else 0\n",
    "\n",
    "            # Check if most common base meets the threshold\n",
    "            if strength >= threshold:\n",
    "                consensus_base = most_common_base  # Use most common base\n",
    "            else:\n",
    "                consensus_base = 'N'  # Use ambiguous base if threshold not met\n",
    "        else:\n",
    "            consensus_base = 'N'  # No bases to analyze\n",
    "            strength = 0  # No consensus strength\n",
    "\n",
    "        # Add consensus base and strength to lists\n",
    "        consensus.append(consensus_base)\n",
    "        consensus_strength.append(strength)\n",
    "\n",
    "        # Display column analysis results\n",
    "        bases_str = ''.join(column)  # Convert column list to string for display\n",
    "        # Create string showing base counts in format \"base:count\"\n",
    "        counts_str = ', '.join([f\"{base}:{count}\" for base, count in base_counts.most_common()])\n",
    "        # Print formatted row with all analysis information\n",
    "        print(f\"  {col+1:2d}   | {bases_str:5s} | {counts_str:11s} | {consensus_base:9s} | {strength:.2f}\")\n",
    "\n",
    "    # Display consensus results\n",
    "    print(f\"\\nConsensus Results:\")\n",
    "    print(f\"Consensus: {' '.join(consensus)}\")  # Spaced format\n",
    "    print(f\"Compact:   {''.join(consensus)}\")  # Compact format\n",
    "\n",
    "    # Calculate consensus quality metrics\n",
    "    avg_strength = sum(consensus_strength) / len(consensus_strength)  # Average strength\n",
    "    ambiguous_positions = consensus.count('N')  # Count ambiguous positions\n",
    "\n",
    "    # Display consensus quality statistics\n",
    "    print(f\"\\nConsensus Quality:\")\n",
    "    print(f\"Average strength: {avg_strength:.2f}\")\n",
    "    print(f\"Ambiguous positions: {ambiguous_positions}/{len(consensus)}\")\n",
    "    print(f\"Consensus coverage: {(len(consensus) - ambiguous_positions)/len(consensus):.1%}\")\n",
    "\n",
    "    # Return dictionary with all analysis results\n",
    "    return {\n",
    "        'consensus': consensus,\n",
    "        'consensus_string': ''.join(consensus),\n",
    "        'strength': consensus_strength,\n",
    "        'average_strength': avg_strength,\n",
    "        'ambiguous_positions': ambiguous_positions,\n",
    "        'coverage': (len(consensus) - ambiguous_positions)/len(consensus)\n",
    "    }\n",
    "\n",
    "def compare_consensus_methods(sequences):\n",
    "    \"\"\"\n",
    "    Compare consensus generation with different parameters.\n",
    "    \"\"\"\n",
    "    # Print header for comparison section\n",
    "    print(\"\\n\" + \"=\"*60)\n",
    "    print(\"Comparing Different Consensus Methods\")\n",
    "    print(\"=\"*60)\n",
    "\n",
    "    # Method 1: Majority rule (50% threshold)\n",
    "    print(\"\\n1. Majority Rule (50% threshold):\")\n",
    "    # Generate consensus requiring 50% agreement, including gaps\n",
    "    result1 = generate_consensus_sequence(sequences, threshold=0.5, include_gaps=True)\n",
    "\n",
    "    # Method 2: Strict consensus (100% threshold)\n",
    "    print(\"\\n2. Strict Consensus (100% threshold):\")\n",
    "    # Generate consensus requiring 100% agreement (unanimous), including gaps\n",
    "    result2 = generate_consensus_sequence(sequences, threshold=1.0, include_gaps=True)\n",
    "\n",
    "    # Method 3: Relaxed consensus (30% threshold)\n",
    "    print(\"\\n3. Relaxed Consensus (30% threshold):\")\n",
    "    # Generate consensus requiring only 30% agreement, including gaps\n",
    "    result3 = generate_consensus_sequence(sequences, threshold=0.3, include_gaps=True)\n",
    "\n",
    "    # Method 4: Ignore gaps\n",
    "    print(\"\\n4. Majority Rule (ignoring gaps):\")\n",
    "    # Generate consensus with 50% threshold but excluding gaps from consideration\n",
    "    result4 = generate_consensus_sequence(sequences, threshold=0.5, include_gaps=False)\n",
    "\n",
    "    # Return list of all results for potential further analysis\n",
    "    return [result1, result2, result3, result4]\n",
    "\n",
    "def main():\n",
    "    # Set random seed for reproducibility - same seed gives same random sequences\n",
    "    random.seed(123)\n",
    "\n",
    "    # Parameters for sequence generation\n",
    "    num_sequences = 4  # Number of sequences to generate\n",
    "    sequence_length = 7  # Length of each sequence\n",
    "    gap_probability = 0.2  # 20% chance of gap at each position\n",
    "\n",
    "    # Display program header and parameters\n",
    "    print(\"=== DNA Consensus Sequence Generator ===\\n\")\n",
    "    print(f\"Generating {num_sequences} random sequences of length {sequence_length}\")\n",
    "    print(f\"Gap probability: {gap_probability:.1%}\\n\")  # Format as percentage\n",
    "\n",
    "    # Generate random sequences\n",
    "    sequences = []  # Initialize empty list to store sequences\n",
    "    # Loop to generate specified number of sequences\n",
    "    for i in range(num_sequences):\n",
    "        seq = generate_random_sequence(sequence_length, gap_probability)  # Generate one sequence\n",
    "        sequences.append(seq)  # Add sequence to list\n",
    "\n",
    "    # Generate consensus with default parameters (50% threshold, include gaps)\n",
    "    consensus_result = generate_consensus_sequence(sequences)\n",
    "\n",
    "    # Compare different consensus generation methods\n",
    "    compare_consensus_methods(sequences)\n",
    "\n",
    "    # Example with more similar sequences\n",
    "    print(\"\\n\" + \"=\"*60)  # Print separator line\n",
    "    print(\"Example 2: More Similar Sequences\")\n",
    "    print(\"=\"*60)\n",
    "\n",
    "    # Create more similar sequences by starting with a template\n",
    "    template = ['A', 'T', 'G', 'C', 'A', 'T']  # Define a template sequence\n",
    "    similar_sequences = []  # Initialize list for similar sequences\n",
    "\n",
    "    # Generate 4 sequences based on the template\n",
    "    for i in range(4):\n",
    "        seq = template.copy()  # Create copy of template to avoid modifying original\n",
    "        # Randomly mutate 1-2 positions per sequence\n",
    "        for _ in range(random.randint(1, 2)):  # Random number of mutations (1 or 2)\n",
    "            pos = random.randint(0, len(seq)-1)  # Random position to mutate\n",
    "            seq[pos] = random.choice(['A', 'T', 'G', 'C', '-'])  # Random replacement\n",
    "        similar_sequences.append(seq)  # Add mutated sequence to list\n",
    "\n",
    "    # Generate consensus for the similar sequences with 50% threshold\n",
    "    generate_consensus_sequence(similar_sequences, threshold=0.5)\n",
    "\n",
    "if __name__ == \"__main__\":\n",
    "    main()  # Run main function only if script is executed directly"
   ]
  },
  {
   "cell_type": "markdown",
   "metadata": {},
   "source": [
    "# 4. BLAST (Basic Local Alignment Search Tool)"
   ]
  },
  {
   "cell_type": "markdown",
   "metadata": {},
   "source": [
    "BLAST is an algorithm that takes slices of a sequence, and checks the similarity of that slice to an existing database of seqences. It focuses on aligning these slices with specific parts of another sequence, and enlarging the slice the stronger the match. "
   ]
  },
  {
   "cell_type": "markdown",
   "metadata": {},
   "source": [
    "### BLAST Differences:\n",
    "BLAST is different from Waterman in that it isn't as exact as Waterman, and may miss some alignments, but is much faster, and can be used for larger databases.\n",
    "\n",
    "While Waterman or Wunsch use a more exact approach, BLAST uses a more heuristic, or rule-of-thumb, strategy.  \n",
    "\n",
    "It gets its speed from several parameters that don't exist in other algorithms."
   ]
  },
  {
   "cell_type": "markdown",
   "metadata": {},
   "source": [
    "**Function**"
   ]
  },
  {
   "cell_type": "code",
   "execution_count": 22,
   "metadata": {},
   "outputs": [],
   "source": [
    "def blast_dna(query, database, word_size=3, match_score=1, mismatch_score=-1, threshold=2, extension_cutoff=2):\n",
    "    results = []\n",
    "    score = 0\n",
    "    word_index = defaultdict(list)\n",
    "    for db_idx, target in enumerate(database):\n",
    "        for i in range(len(target) - word_size + 1):\n",
    "            word = target[i:i + word_size]\n",
    "            word_index[word].append((db_idx, i))\n",
    "\n",
    "    seen_alignments = set()  \n",
    "    \n",
    "    for q_pos in range(len(query) - word_size + 1):\n",
    "        q_word = query[q_pos:q_pos + word_size]\n",
    "        if q_word in word_index:\n",
    "            for (db_idx, db_pos) in word_index[q_word]:\n",
    "                score = word_size * match_score\n",
    "                initial_score = score\n",
    "                q_start, db_start = q_pos, db_pos\n",
    "                q_end, db_end = q_pos + word_size, db_pos + word_size\n",
    "\n",
    "                \n",
    "                while (q_end < len(query)) and (db_end < len(database[db_idx])):\n",
    "                    if query[q_end] == database[db_idx][db_end]:\n",
    "                        score += match_score\n",
    "                    else:\n",
    "                        score += mismatch_score\n",
    "                        if score < initial_score - extension_cutoff:\n",
    "                            break\n",
    "                    q_end += 1\n",
    "                    db_end += 1\n",
    "\n",
    "                \n",
    "                q_left, db_left = q_pos - 1, db_pos - 1\n",
    "                while q_left >= 0 and db_left >= 0:\n",
    "                    if query[q_left] == database[db_idx][db_left]:\n",
    "                        score += match_score\n",
    "                    else:\n",
    "                        score += mismatch_score\n",
    "                        if score < initial_score - extension_cutoff:\n",
    "                            break\n",
    "                    q_left -= 1\n",
    "                    db_left -= 1\n",
    "\n",
    "                \n",
    "                alignment_sig = (db_idx, q_left+1, q_end, db_left+1, db_end)\n",
    "                if score >= threshold and alignment_sig not in seen_alignments:\n",
    "                    seen_alignments.add(alignment_sig)\n",
    "                    results.append((\n",
    "                        score,\n",
    "                        query[q_left+1:q_end],\n",
    "                        database[db_idx][db_left+1:db_end],\n",
    "                        db_idx\n",
    "                    ))\n",
    "        \n",
    "    return sorted(results, reverse=True) if results else [(0, None, None, None)]"
   ]
  },
  {
   "cell_type": "markdown",
   "metadata": {},
   "source": [
    "**Demo code**"
   ]
  },
  {
   "cell_type": "code",
   "execution_count": 23,
   "metadata": {},
   "outputs": [
    {
     "name": "stdout",
     "output_type": "stream",
     "text": [
      "DATABASE:\n",
      "DB[0]: GCCCTAC\n",
      "DB[1]: TCCA\n",
      "DB[2]: CCCAGACGAA\n",
      "DB[3]: TGGGGT\n",
      "DB[4]: ATGCTGATTTCGCCC\n",
      "DB[5]: CGGAGGGCCGTCG\n",
      "DB[6]: CTACCAGTGTGCGAT\n",
      "DB[7]: ACACATTAGGGCAC\n",
      "DB[8]: ATCATCTAAGACA\n",
      "DB[9]: TGTC\n",
      "DB[10]: GGTCGCACTCAC\n",
      "DB[11]: GAACGCTCTACTAG\n",
      "DB[12]: GTGATATTA\n",
      "DB[13]: GTCGGCCGGCGAA\n",
      "DB[14]: AGGA\n",
      "DB[15]: CCGAGCAAAGACTC\n",
      "\n",
      "QUERY:\n",
      "\n",
      "Query[0]: TGCCTT\n",
      "Score: 3 | DB Index: 0\n",
      "Query : GCCTT\n",
      "        ||| |\n",
      "DB    : GCCCT\n",
      "\n",
      "Score: 2 | DB Index: 6\n",
      "Query : TGCCTT\n",
      "        |||  |\n",
      "DB    : TGCGAT\n",
      "\n",
      "Score: 2 | DB Index: 5\n",
      "Query : TGCCTT\n",
      "         ||| |\n",
      "DB    : GGCCGT\n",
      "\n"
     ]
    }
   ],
   "source": [
    "#Random database\n",
    "database_list = [''.join(random.choices('ACGT', k=random.randint(4, 15))) for _ in range(16)]\n",
    "\n",
    "#Add a query\n",
    "query_list =[''.join(random.choices('ACGT', k=random.randint(4, 15))) ]\n",
    "\n",
    "\n",
    "print(\"DATABASE:\")\n",
    "for i, seq in enumerate(database_list):\n",
    "    print(f\"DB[{i}]: {seq}\")\n",
    "\n",
    "print(\"\\nQUERY:\")\n",
    "\n",
    "for qi, query in enumerate(query_list):\n",
    "    print(f\"\\nQuery[{qi}]: {query}\")\n",
    "    \n",
    "    #BLAST function call\n",
    "    \n",
    "    results = blast_dna(query, database_list)\n",
    "\n",
    "    if results == [(0, None, None, None)]:\n",
    "        print(\"No significant matches found.\")\n",
    "    else:\n",
    "        for score, q, d, db_index in results:\n",
    "            print(f\"Score: {score} | DB Index: {db_index}\")\n",
    "            print(f\"Query : {q}\")\n",
    "            print(f\"        {''.join('|' if qc == dc else ' ' for qc, dc in zip(q, d))}\")\n",
    "            print(f\"DB    : {d}\\n\")"
   ]
  },
  {
   "cell_type": "markdown",
   "metadata": {},
   "source": [
    "### BLAST and Parameters"
   ]
  },
  {
   "cell_type": "markdown",
   "metadata": {},
   "source": [
    "### A. Word Size\n",
    "\n",
    "BLAST works by having a specific word size, for eample 3, and comparing a local part of that sequence to the data base to find a match.  \n",
    "   \n",
    "What BLAST will do is from the query, take a slice of it that has 3 characters, (\"ACT\") and check if that slice exists in the database.  \n",
    "\n",
    "Word Size dictates how big that slice will be."
   ]
  },
  {
   "cell_type": "code",
   "execution_count": 24,
   "metadata": {},
   "outputs": [
    {
     "name": "stdout",
     "output_type": "stream",
     "text": [
      "Score: 3 | DB Index: 0\n",
      "Query : ACT\n",
      "        |||\n",
      "DB    : ACT\n",
      "\n"
     ]
    }
   ],
   "source": [
    "query = 'ACT'\n",
    "database = ['GGGACTGGG']\n",
    "\n",
    "\n",
    "    \n",
    "results = blast_dna(query, database, word_size = 3)\n",
    "\n",
    "if results == [(0, None, None, None)]:\n",
    "    print(\"No significant matches found.\")\n",
    "else:\n",
    "    for score, q, d, db_index in results:\n",
    "        print(f\"Score: {score} | DB Index: {db_index}\")\n",
    "        print(f\"Query : {q}\")\n",
    "        print(f\"        {''.join('|' if qc == dc else ' ' for qc, dc in zip(q, d))}\")\n",
    "        print(f\"DB    : {d}\\n\")"
   ]
  },
  {
   "cell_type": "markdown",
   "metadata": {},
   "source": [
    "BLAST flagged a match between the query and the database, even if \"ACT\" is only a small part of the database."
   ]
  },
  {
   "cell_type": "code",
   "execution_count": 25,
   "metadata": {},
   "outputs": [
    {
     "name": "stdout",
     "output_type": "stream",
     "text": [
      "Score: 2 | DB Index: 0\n",
      "Query : ACTA\n",
      "        ||| \n",
      "DB    : ACTG\n",
      "\n"
     ]
    }
   ],
   "source": [
    "query = 'ACTA'\n",
    "database = ['GGGACTGGG']\n",
    "\n",
    "\n",
    "    \n",
    "results = blast_dna(query, database ,word_size = 3)\n",
    "\n",
    "if results == [(0, None, None, None)]:\n",
    "    print(\"No significant matches found.\")\n",
    "else:\n",
    "    for score, q, d, db_index in results:\n",
    "        print(f\"Score: {score} | DB Index: {db_index}\")\n",
    "        print(f\"Query : {q}\")\n",
    "        print(f\"        {''.join('|' if qc == dc else ' ' for qc, dc in zip(q, d))}\")\n",
    "        print(f\"DB    : {d}\\n\")"
   ]
  },
  {
   "cell_type": "markdown",
   "metadata": {},
   "source": [
    "After BLAST flags a good enough match from the word size, it then starts to \"extend\" that slice. So instead of searching for \"ACT\", it will now search \"ACTA\", and as long as it keeps matching, it will keep extending that slice. But that is only if the original \"slice\" reaches a minimum score for a match.\n",
    "\n",
    "**Example:**"
   ]
  },
  {
   "cell_type": "code",
   "execution_count": 26,
   "metadata": {},
   "outputs": [
    {
     "name": "stdout",
     "output_type": "stream",
     "text": [
      "No significant matches found.\n"
     ]
    }
   ],
   "source": [
    "query = 'ACTAG'\n",
    "database = ['GGGACTGGG']\n",
    "\n",
    "\n",
    "#Higher word size\n",
    "results = blast_dna(query, database, word_size = 4)\n",
    "\n",
    "if results == [(0, None, None, None)]:\n",
    "    print(\"No significant matches found.\")\n",
    "else:\n",
    "    for score, q, d, db_index in results:\n",
    "        print(f\"Score: {score} | DB Index: {db_index}\")\n",
    "        print(f\"Query : {q}\")\n",
    "        print(f\"        {''.join('|' if qc == dc else ' ' for qc, dc in zip(q, d))}\")\n",
    "        print(f\"DB    : {d}\\n\")"
   ]
  },
  {
   "cell_type": "markdown",
   "metadata": {},
   "source": [
    "Because of the increased Word Size, BLAST is now checking \"ACTA\" OR \"CTAG\" from the beginning instead of \"ACT\", it sees that the slice it chose did not match, and thus did not flag it as a significant match."
   ]
  },
  {
   "cell_type": "code",
   "execution_count": 27,
   "metadata": {},
   "outputs": [
    {
     "name": "stdout",
     "output_type": "stream",
     "text": [
      "Score: 3 | DB Index: 0\n",
      "Query : ACTAG\n",
      "        ||| |\n",
      "DB    : ACTGG\n",
      "\n"
     ]
    }
   ],
   "source": [
    "query = 'ACTAG'\n",
    "database = ['GGGACTGGG']\n",
    "\n",
    "\n",
    "#Lower word size\n",
    "results = blast_dna(query, database, word_size = 2)\n",
    "\n",
    "if results == [(0, None, None, None)]:\n",
    "    print(\"No significant matches found.\")\n",
    "else:\n",
    "    for score, q, d, db_index in results:\n",
    "        print(f\"Score: {score} | DB Index: {db_index}\")\n",
    "        print(f\"Query : {q}\")\n",
    "        print(f\"        {''.join('|' if qc == dc else ' ' for qc, dc in zip(q, d))}\")\n",
    "        print(f\"DB    : {d}\\n\")"
   ]
  },
  {
   "cell_type": "markdown",
   "metadata": {},
   "source": [
    "But because the Word Size is now smaller, there is a larger chance that it finds an initial match at all, from which it will now start extending and checking the rest of the sequence to see if it matches."
   ]
  },
  {
   "cell_type": "markdown",
   "metadata": {},
   "source": [
    "### Extension Cutoff and Threshold  \n",
    "\n",
    "BLAST keeps track of the score of the alignment, which is calculated by adding one point for each match, and taking away one point for each mismatch.  \n",
    "\n",
    "Part of what makes BLAST different is the Extension Cutoff and Threshold."
   ]
  },
  {
   "cell_type": "markdown",
   "metadata": {},
   "source": [
    "### B. Extension Cutoff\n",
    "Extension Cutoff is a parameter in BLAST that decides how much it will keep extending that slice even in the prescence of mismatches."
   ]
  },
  {
   "cell_type": "markdown",
   "metadata": {},
   "source": [
    "**Example:**"
   ]
  },
  {
   "cell_type": "code",
   "execution_count": 28,
   "metadata": {},
   "outputs": [
    {
     "name": "stdout",
     "output_type": "stream",
     "text": [
      "Score: 3 | DB Index: 0\n",
      "Query : ACTCCCCCTCCCCCT\n",
      "        ||| |  || |  ||\n",
      "DB    : ACTACTACTACTACT\n",
      "\n",
      "Score: 3 | DB Index: 0\n",
      "Query : ACTCCCCCTCCCCCT\n",
      "        ||| |  || |  ||\n",
      "DB    : ACTACTACTACTACT\n",
      "\n",
      "Score: 3 | DB Index: 0\n",
      "Query : ACTCCCCCTCCCCCT\n",
      "        ||| |  || |  ||\n",
      "DB    : ACTACTACTACTACT\n",
      "\n",
      "Score: 3 | DB Index: 0\n",
      "Query : ACTCCCCCT\n",
      "        ||| |  ||\n",
      "DB    : ACTACTACT\n",
      "\n",
      "Score: 3 | DB Index: 0\n",
      "Query : ACT\n",
      "        |||\n",
      "DB    : ACT\n",
      "\n",
      "Score: 2 | DB Index: 0\n",
      "Query : ACTCCCCCTCCC\n",
      "        ||| |  || | \n",
      "DB    : ACTACTACTACT\n",
      "\n",
      "Score: 2 | DB Index: 0\n",
      "Query : ACTCCC\n",
      "        ||| | \n",
      "DB    : ACTACT\n",
      "\n"
     ]
    }
   ],
   "source": [
    "query = 'ACTCCCCCTCCCCCT'\n",
    "database = ['ACTACTACTACTACTACTACT']\n",
    "\n",
    "#High Extension Cutoff \n",
    "results = blast_dna(query, database, extension_cutoff = 5)\n",
    "\n",
    "if results == [(0, None, None, None)]:\n",
    "    print(\"No significant matches found.\")\n",
    "else:\n",
    "    for score, q, d, db_index in results:\n",
    "        print(f\"Score: {score} | DB Index: {db_index}\")\n",
    "        print(f\"Query : {q}\")\n",
    "        print(f\"        {''.join('|' if qc == dc else ' ' for qc, dc in zip(q, d))}\")\n",
    "        print(f\"DB    : {d}\\n\")"
   ]
  },
  {
   "cell_type": "markdown",
   "metadata": {},
   "source": [
    "As seen in the example, BLAST extended the slice and tried to align the entire sequence even in the prescence of many mismatches because of the high Extension Cutoff.  \n",
    "\n",
    "BLAST decides to cut the extension if the amount of mismatches, or points taken away, is higher than the Extension Cutoff value."
   ]
  },
  {
   "cell_type": "code",
   "execution_count": 29,
   "metadata": {},
   "outputs": [
    {
     "name": "stdout",
     "output_type": "stream",
     "text": [
      "Score: 3 | DB Index: 0\n",
      "Query : ACT\n",
      "        |||\n",
      "DB    : ACT\n",
      "\n",
      "Score: 2 | DB Index: 0\n",
      "Query : ACTCCC\n",
      "        ||| | \n",
      "DB    : ACTACT\n",
      "\n"
     ]
    }
   ],
   "source": [
    "query = 'ACTCCCCCTCCCCCT'\n",
    "database = ['ACTACTACTACTACTACTACT']\n",
    "\n",
    "#Low Extension Cutoff \n",
    "results = blast_dna(query, database, extension_cutoff =1)\n",
    "\n",
    "if results == [(0, None, None, None)]:\n",
    "    print(\"No significant matches found.\")\n",
    "else:\n",
    "    for score, q, d, db_index in results:\n",
    "        print(f\"Score: {score} | DB Index: {db_index}\")\n",
    "        print(f\"Query : {q}\")\n",
    "        print(f\"        {''.join('|' if qc == dc else ' ' for qc, dc in zip(q, d))}\")\n",
    "        print(f\"DB    : {d}\\n\")"
   ]
  },
  {
   "cell_type": "markdown",
   "metadata": {},
   "source": [
    "By having an Extension Cutoff value, it can stop trying to check the alignment early, if the match is too poor. As seen above, because of the lower Extension Cutoff, it did not bother checking the full query against the full database."
   ]
  },
  {
   "cell_type": "markdown",
   "metadata": {},
   "source": [
    "### C. Threshold:\n",
    "\n",
    "The Threshold parameter in BLAST is the minimum final score that a sequence needs to get before it is flagged as a hit."
   ]
  },
  {
   "cell_type": "markdown",
   "metadata": {},
   "source": [
    "**Example:**"
   ]
  },
  {
   "cell_type": "code",
   "execution_count": 30,
   "metadata": {},
   "outputs": [
    {
     "name": "stdout",
     "output_type": "stream",
     "text": [
      "No significant matches found.\n"
     ]
    }
   ],
   "source": [
    "query = 'GACTACTACTACTACT'\n",
    "database = ['ACTACTACTACG']\n",
    "\n",
    "#High Threshold\n",
    "results = blast_dna(query, database, threshold = 12)\n",
    "\n",
    "if results == [(0, None, None, None)]:\n",
    "    print(\"No significant matches found.\")\n",
    "else:\n",
    "    for score, q, d, db_index in results:\n",
    "        print(f\"Score: {score} | DB Index: {db_index}\")\n",
    "        print(f\"Query : {q}\")\n",
    "        print(f\"        {''.join('|' if qc == dc else ' ' for qc, dc in zip(q, d))}\")\n",
    "        print(f\"DB    : {d}\\n\")"
   ]
  },
  {
   "cell_type": "markdown",
   "metadata": {},
   "source": [
    "Even when most of the query matches the database, because the total score did not reach the minimum value, BLAST did not flag it as a significant match. Having a high Threshold value can be important for long queries. "
   ]
  },
  {
   "cell_type": "code",
   "execution_count": 31,
   "metadata": {},
   "outputs": [
    {
     "name": "stdout",
     "output_type": "stream",
     "text": [
      "Score: 3 | DB Index: 0\n",
      "Query : ACT\n",
      "        |||\n",
      "DB    : ACT\n",
      "\n",
      "Score: 2 | DB Index: 0\n",
      "Query : GGGGGACT\n",
      "           |||||\n",
      "DB    : ACTGGACT\n",
      "\n"
     ]
    }
   ],
   "source": [
    "query = 'GGGAAGGGGGGGGGGACT'\n",
    "database = ['ACTGGACTACTACTACT']\n",
    "\n",
    "#Low Threshold\n",
    "results = blast_dna(query, database, threshold = 2)\n",
    "\n",
    "if results == [(0, None, None, None)]:\n",
    "    print(\"No significant matches found.\")\n",
    "else:\n",
    "    for score, q, d, db_index in results:\n",
    "        print(f\"Score: {score} | DB Index: {db_index}\")\n",
    "        print(f\"Query : {q}\")\n",
    "        print(f\"        {''.join('|' if qc == dc else ' ' for qc, dc in zip(q, d))}\")\n",
    "        print(f\"DB    : {d}\\n\")"
   ]
  },
  {
   "cell_type": "markdown",
   "metadata": {},
   "source": [
    "With a low Threshold value of 2, even when there are many mismatches between the query and the database, BLAST will still flag it as a match despite the poor quality."
   ]
  },
  {
   "cell_type": "markdown",
   "metadata": {},
   "source": [
    "### **Importance of these Parameters:**\n",
    "\n",
    "If you are using the algorithm to find the best local alignment quickly, Word Size, Threshold and a Extension Cutoff help the algorithm save time by only flagging sequences if they reach a specific initial or final score, and if they go below the Extension Cutoff, it allows the algorithm to skip to the next sequence, or try a different combination of the slice.\n",
    "\n",
    "Basically:  \n",
    "- Higher Word Count, higher initial match needed before the rest of the sequence is evaluated.\n",
    "- Higher Extension Cutoff, more leeway for differences before the algorithm skips checking that sequence.\n",
    "- Higher Threshold, more similarities and higher total score  is needed before a sequence is flagged as a significant match. Useful for more accurate matches.\n",
    "\n",
    "BLAST is good because you can adjust these values, letting you change how strong or weak the matches you want flagged to be, and how much leeway each sequence gets before the algorithm moves on, affecting the speed of how fast BLAST checks. While it generally less accurate than Waterman, and may miss alignments that Waterman may catch, these parameters is especially important for longer sequences and larger databases, where other algorithms may take too long."
   ]
  },
  {
   "cell_type": "markdown",
   "metadata": {},
   "source": [
    "**Example:**"
   ]
  },
  {
   "cell_type": "code",
   "execution_count": 32,
   "metadata": {},
   "outputs": [
    {
     "name": "stdout",
     "output_type": "stream",
     "text": [
      "No significant matches found.\n"
     ]
    }
   ],
   "source": [
    "query = 'AGTAGTAGTAGTAGTAGT'\n",
    "database = ['ACTACTACTACTACTACT']\n",
    "\n",
    "#Basic parameters.\n",
    "results = blast_dna(query, database, word_size = 3, extension_cutoff = 2, threshold = 5)\n",
    "\n",
    "if results == [(0, None, None, None)]:\n",
    "    print(\"No significant matches found.\")\n",
    "else:\n",
    "    for score, q, d, db_index in results:\n",
    "        print(f\"Score: {score} | DB Index: {db_index}\")\n",
    "        print(f\"Query : {q}\")\n",
    "        print(f\"        {''.join('|' if qc == dc else ' ' for qc, dc in zip(q, d))}\")\n",
    "        print(f\"DB    : {d}\\n\")"
   ]
  },
  {
   "cell_type": "markdown",
   "metadata": {},
   "source": [
    "Waterman would have flagged this as a match, albeit a low-scoring one. BLAST, however, does not flag this one at all. But by changing the Word Size, Threshod, or Extension Cutoff, you can change how strict or lenient the requirements have to be before a match is flagged."
   ]
  },
  {
   "cell_type": "code",
   "execution_count": 33,
   "metadata": {},
   "outputs": [
    {
     "name": "stdout",
     "output_type": "stream",
     "text": [
      "Score: 6 | DB Index: 0\n",
      "Query : AGTAGTAGTAGTAGTAGT\n",
      "        | || || || || || |\n",
      "DB    : ACTACTACTACTACTACT\n",
      "\n",
      "Score: 5 | DB Index: 0\n",
      "Query : AGTAGTAGTAGTAGT\n",
      "        | || || || || |\n",
      "DB    : ACTACTACTACTACT\n",
      "\n",
      "Score: 5 | DB Index: 0\n",
      "Query : AGTAGTAGTAGTAGT\n",
      "        | || || || || |\n",
      "DB    : ACTACTACTACTACT\n",
      "\n"
     ]
    }
   ],
   "source": [
    "query = 'AGTAGTAGTAGTAGTAGT'\n",
    "database = ['ACTACTACTACTACTACT']\n",
    "\n",
    "#Low word size\n",
    "results = blast_dna(query, database, word_size = 1, extension_cutoff = 2, threshold = 5)\n",
    "\n",
    "if results == [(0, None, None, None)]:\n",
    "    print(\"No significant matches found.\")\n",
    "else:\n",
    "    for score, q, d, db_index in results:\n",
    "        print(f\"Score: {score} | DB Index: {db_index}\")\n",
    "        print(f\"Query : {q}\")\n",
    "        print(f\"        {''.join('|' if qc == dc else ' ' for qc, dc in zip(q, d))}\")\n",
    "        print(f\"DB    : {d}\\n\")"
   ]
  },
  {
   "cell_type": "markdown",
   "metadata": {},
   "source": [
    "Just by changing the Word Size, BLAST is now able to flag the two as a match and give a score for how similar they are."
   ]
  },
  {
   "cell_type": "markdown",
   "metadata": {},
   "source": [
    "### Experiment!\n",
    "\n",
    "Experiment with different Word Sizes, Extension Cutoffs, and Thresholds, and even the scores!"
   ]
  },
  {
   "cell_type": "code",
   "execution_count": 34,
   "metadata": {},
   "outputs": [
    {
     "name": "stdout",
     "output_type": "stream",
     "text": [
      "No significant matches found.\n"
     ]
    }
   ],
   "source": [
    "query = 'AGTAGTAGTAGTAGTAGT'\n",
    "database = ['ACTACTACTACTACTACT']\n",
    "\n",
    "#Change the BLAST parameters!\n",
    "results = blast_dna(query, database, word_size=3, match_score=1, mismatch_score=-1, threshold=3, extension_cutoff=2 )\n",
    "\n",
    "if results == [(0, None, None, None)]:\n",
    "    print(\"No significant matches found.\")\n",
    "else:\n",
    "    for score, q, d, db_index in results:\n",
    "        print(f\"Score: {score} | DB Index: {db_index}\")\n",
    "        print(f\"Query : {q}\")\n",
    "        print(f\"        {''.join('|' if qc == dc else ' ' for qc, dc in zip(q, d))}\")\n",
    "        print(f\"DB    : {d}\\n\")"
   ]
  },
  {
   "cell_type": "markdown",
   "metadata": {},
   "source": [
    "Experiemnt with BLAST checking a query against a database."
   ]
  },
  {
   "cell_type": "code",
   "execution_count": 35,
   "metadata": {},
   "outputs": [
    {
     "name": "stdout",
     "output_type": "stream",
     "text": [
      "DATABASE:\n",
      "DB[0]: TCCGGGCT\n",
      "DB[1]: GATGAACTATA\n",
      "DB[2]: GCTCTCAGGTAG\n",
      "DB[3]: CTTGCCTT\n",
      "DB[4]: GAAAAAGGTG\n",
      "DB[5]: AAAGACATCCC\n",
      "DB[6]: TAGGCAAA\n",
      "DB[7]: GACGTGTCA\n",
      "DB[8]: GGCCTTGAGCCT\n",
      "DB[9]: CCACTTGCA\n",
      "\n",
      "QUERY:\n",
      "\n",
      "Query[0]: _________\n",
      "No significant matches found.\n"
     ]
    }
   ],
   "source": [
    "#Random database\n",
    "database_list= ['TCCGGGCT', 'GATGAACTATA', 'GCTCTCAGGTAG', 'CTTGCCTT', 'GAAAAAGGTG', 'AAAGACATCCC', 'TAGGCAAA', 'GACGTGTCA', 'GGCCTTGAGCCT', 'CCACTTGCA']\n",
    "\n",
    "#Add a query!\n",
    "query_list = [\"_________\"]\n",
    "\n",
    "print(\"DATABASE:\")\n",
    "for i, seq in enumerate(database_list):\n",
    "    print(f\"DB[{i}]: {seq}\")\n",
    "\n",
    "print(\"\\nQUERY:\")\n",
    "\n",
    "for qi, query in enumerate(query_list):\n",
    "    print(f\"\\nQuery[{qi}]: {query}\")\n",
    "    \n",
    "    #Change BLAST parameters here!\n",
    "    \n",
    "    results = blast_dna(query, database_list, word_size=3, match_score=1, mismatch_score=-1, threshold=3, extension_cutoff=2)\n",
    "\n",
    "    if results == [(0, None, None, None)]:\n",
    "        print(\"No significant matches found.\")\n",
    "    else:\n",
    "        for score, q, d, db_index in results:\n",
    "            print(f\"Score: {score} | DB Index: {db_index}\")\n",
    "            print(f\"Query : {q}\")\n",
    "            print(f\"        {''.join('|' if qc == dc else ' ' for qc, dc in zip(q, d))}\")\n",
    "            print(f\"DB    : {d}\\n\")"
   ]
  },
  {
   "cell_type": "markdown",
   "metadata": {},
   "source": [
    "**+ DESCRIPTION**"
   ]
  },
  {
   "cell_type": "markdown",
   "metadata": {},
   "source": [
    "**Scoring System**\n",
    "- Match = **+2**\n",
    "- Mismatch = **-1**\n",
    "- Gap = **-2**\n",
    "- If score < 0, reset it to 0 (to find local regions)"
   ]
  },
  {
   "cell_type": "code",
   "execution_count": null,
   "metadata": {},
   "outputs": [],
   "source": [
    "match = 1\n",
    "mismatch = -1\n",
    "gap = -2\n",
    "\n",
    "def score(a, b):\n",
    "    return match if a == b else mismatch"
   ]
  }
 ],
 "metadata": {
  "kernelspec": {
   "display_name": "base",
   "language": "python",
   "name": "python3"
  },
  "language_info": {
   "codemirror_mode": {
    "name": "ipython",
    "version": 3
   },
   "file_extension": ".py",
   "mimetype": "text/x-python",
   "name": "python",
   "nbconvert_exporter": "python",
   "pygments_lexer": "ipython3",
   "version": "3.13.5"
  }
 },
 "nbformat": 4,
 "nbformat_minor": 2
}
